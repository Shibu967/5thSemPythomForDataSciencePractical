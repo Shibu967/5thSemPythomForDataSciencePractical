{
 "cells": [
  {
   "cell_type": "markdown",
   "id": "74cd4456",
   "metadata": {},
   "source": [
    "# LAB-2"
   ]
  },
  {
   "cell_type": "markdown",
   "id": "ccfdbe32",
   "metadata": {},
   "source": [
    "### Shibu Kumari<br>190570107146"
   ]
  },
  {
   "cell_type": "markdown",
   "id": "84872938",
   "metadata": {},
   "source": [
    "# 1.Write a program to find the area of a Rectangle."
   ]
  },
  {
   "cell_type": "markdown",
   "id": "82ed3fbf",
   "metadata": {},
   "source": [
    "Step 1:Get Length and width from user\n",
    "Step 2:Print multiplication of length and Width "
   ]
  },
  {
   "cell_type": "code",
   "execution_count": 1,
   "id": "bec081ba",
   "metadata": {},
   "outputs": [
    {
     "name": "stdout",
     "output_type": "stream",
     "text": [
      "Enter Lenght: 5\n",
      "Enter Width :6\n",
      "Area of Rectangle is :  30\n"
     ]
    }
   ],
   "source": [
    "l=int(input(\"Enter Lenght: \"))\n",
    "w=int(input(\"Enter Width :\"))\n",
    "print(\"Area of Rectangle is : \", (l*w))"
   ]
  },
  {
   "cell_type": "markdown",
   "id": "e46aab54",
   "metadata": {},
   "source": [
    "# 2.Write a program to swap the values of two variables."
   ]
  },
  {
   "cell_type": "markdown",
   "id": "bf91497a",
   "metadata": {},
   "source": [
    "Step 1:Initialize value of two varible \n",
    "Step 2:Swap value using \"=\" (a,b=b,a)\n",
    "Step 3:print new value of a and b"
   ]
  },
  {
   "cell_type": "code",
   "execution_count": 3,
   "id": "f2103d1c",
   "metadata": {},
   "outputs": [
    {
     "name": "stdout",
     "output_type": "stream",
     "text": [
      "Before swap A and B :  10   5\n",
      "After swap A and B :  5   10\n"
     ]
    }
   ],
   "source": [
    "a,b=10,5\n",
    "print(\"Before swap A and B : \", a ,\" \",b )\n",
    "a,b=b,a\n",
    "print(\"After swap A and B : \", a ,\" \",b)\n"
   ]
  },
  {
   "cell_type": "markdown",
   "id": "1c7f65ab",
   "metadata": {},
   "source": [
    "# 3.Write a program to convert kilogram into pound."
   ]
  },
  {
   "cell_type": "markdown",
   "id": "2a15a795",
   "metadata": {},
   "source": [
    "Step 1:Get value of weight in KG\n",
    "Step 2:Covert into pounds KG * 2.2046\n",
    "Step 3:Print pound value"
   ]
  },
  {
   "cell_type": "code",
   "execution_count": 4,
   "id": "6c19dad8",
   "metadata": {},
   "outputs": [
    {
     "name": "stdout",
     "output_type": "stream",
     "text": [
      "Enter weight in KG : 3\n",
      "3.0  Kilograms = 6.6138  Pounds\n"
     ]
    }
   ],
   "source": [
    "kilo=float(input('Enter weight in KG : '))\n",
    "pounds=kilo*2.2046\n",
    "print(kilo,' Kilograms =', pounds,' Pounds')"
   ]
  },
  {
   "cell_type": "markdown",
   "id": "a0d4363a",
   "metadata": {},
   "source": [
    "# 4. Write a program to find whether a number is even or odd.a program to find whether a number is even or odd."
   ]
  },
  {
   "cell_type": "markdown",
   "id": "967e7ffc",
   "metadata": {},
   "source": [
    "Step 1:Get number from user\n",
    "Step 2:check if number % 2 = 0 then\n",
    "                  print(\"Even\")\n",
    "             Else \n",
    "                  print(\"Odd)"
   ]
  },
  {
   "cell_type": "code",
   "execution_count": 6,
   "id": "105681b8",
   "metadata": {},
   "outputs": [
    {
     "name": "stdout",
     "output_type": "stream",
     "text": [
      "Enter a number : 4\n",
      "Number is Even\n"
     ]
    }
   ],
   "source": [
    "a=int(input(\"Enter a number : \"))\n",
    "if a%2==0:\n",
    "    print(\"Number is Even\")\n",
    "else:\n",
    "    print(\"Number is Odd\")"
   ]
  },
  {
   "cell_type": "markdown",
   "id": "6414f523",
   "metadata": {},
   "source": [
    "# 5.Write a program to check the largest among the given three numbers."
   ]
  },
  {
   "cell_type": "markdown",
   "id": "ba5e8206",
   "metadata": {},
   "source": [
    "Step 1: Get three values from user\n",
    "Step 2: check\n",
    "        if val1 > val2 and val1 > val3 then\n",
    "            print(val1 is Largest)\n",
    "        elif val2 > val3\n",
    "            print(val2 is Largest)\n",
    "        else\n",
    "            print(val3 is Largest)"
   ]
  },
  {
   "cell_type": "code",
   "execution_count": 7,
   "id": "9af98130",
   "metadata": {},
   "outputs": [
    {
     "name": "stdout",
     "output_type": "stream",
     "text": [
      "ENter your value 1:34\n",
      "ENter your value 2:56\n",
      "ENter your value 3:3\n",
      "Largest number is 56\n"
     ]
    }
   ],
   "source": [
    "val1 = int(input(\"ENter your value 1:\"))\n",
    "val2 = int(input(\"ENter your value 2:\"))\n",
    "val3 = int(input(\"ENter your value 3:\"))\n",
    "if (val1 > val2) and (val1 > val3):\n",
    "    print(\"Largest number is\",val1)\n",
    "elif (val2 > val3):\n",
    "    print(\"Largest number is\",val2)\n",
    "else:\n",
    "    print(\"Largest number is\",val3)\n"
   ]
  },
  {
   "cell_type": "markdown",
   "id": "409a8e4c",
   "metadata": {},
   "source": [
    "# 6.Write a Python program to check if the input year is a leap year or not."
   ]
  },
  {
   "cell_type": "raw",
   "id": "e386d89d",
   "metadata": {},
   "source": [
    "Step 1:Get year from user.\n",
    "Step 1: check \n",
    "        if year % 4 = 0 and year % 100 = 0 then \n",
    "            print(\"Leap year\")\n",
    "        elif year % 100 = 0\n",
    "            print(\"Not leap year\")\n",
    "        elif year % 400 = 0\n",
    "            print(\"Leap year\")\n",
    "        else\n",
    "            print(\"Not leap year)"
   ]
  },
  {
   "cell_type": "code",
   "execution_count": 13,
   "id": "e5d00f7d",
   "metadata": {},
   "outputs": [
    {
     "name": "stdout",
     "output_type": "stream",
     "text": [
      "Enter a year: 2020\n",
      "2020 is a Leap Year\n"
     ]
    }
   ],
   "source": [
    "year = int(input(\"Enter a year: \"))  \n",
    "if year % 4 == 0 and year % 100 != 0:\n",
    "    print(year, \"is a Leap Year\")\n",
    "elif year % 100 == 0:\n",
    "    print(year,\" is not a Leap Year\")\n",
    "elif year % 400 ==0:\n",
    "    print(year,\" is a Leap Year\")\n",
    "else:\n",
    "    print(year,\" is not a Leap Year\")"
   ]
  },
  {
   "cell_type": "markdown",
   "id": "8b54c5ac",
   "metadata": {},
   "source": [
    "# 7.Write a Python program to display the Fibonacci sequence for n terms."
   ]
  },
  {
   "cell_type": "markdown",
   "id": "6eacc16f",
   "metadata": {},
   "source": [
    "Step 1:Get value form user to print Fibonscci series \n",
    "Step 2: Initialize a=0,b=1,sum=0,count=1\n",
    "Step 3: while count<=n \n",
    "            print(sum)\n",
    "            count=count+1\n",
    "            a=b\n",
    "            b=sum\n",
    "            sum=a+b"
   ]
  },
  {
   "cell_type": "code",
   "execution_count": 16,
   "id": "024feb36",
   "metadata": {},
   "outputs": [
    {
     "name": "stdout",
     "output_type": "stream",
     "text": [
      "Enter the value of 'n': 10\n",
      "Fibonacci Series:  0 1 1 2 3 5 8 13 21 34 "
     ]
    }
   ],
   "source": [
    "n=int(input(\"Enter the to print Fibonacci series: \"))\n",
    "a,b,sum,count=0,1,0,1\n",
    "print(\"Fibonacci Series: \", end = \" \")\n",
    "while(count<=n):\n",
    "    print(sum, end = \" \")\n",
    "    count+=1\n",
    "    a=b\n",
    "    b=sum\n",
    "    sum=a+b"
   ]
  },
  {
   "cell_type": "markdown",
   "id": "7c5db905",
   "metadata": {},
   "source": [
    "# 8.Write a program to demonstrate While loop with else."
   ]
  },
  {
   "cell_type": "markdown",
   "id": "a9b68fdf",
   "metadata": {},
   "source": [
    "Step 1:Initialize i=0\n",
    "Step 2:while i<6\n",
    "            print(i)\n",
    "            i=i+1\n",
    "       else\n",
    "           print(\"i is not less then 6 now\")"
   ]
  },
  {
   "cell_type": "code",
   "execution_count": 18,
   "id": "22e14d6b",
   "metadata": {},
   "outputs": [
    {
     "name": "stdout",
     "output_type": "stream",
     "text": [
      "1\n",
      "2\n",
      "3\n",
      "4\n",
      "5\n",
      "i is not less than 6 now\n"
     ]
    }
   ],
   "source": [
    "i=1\n",
    "while i < 6:\n",
    "    print(i)\n",
    "    i+=1\n",
    "else:\n",
    "    print(\"i is not less than 6 now\")"
   ]
  },
  {
   "cell_type": "markdown",
   "id": "3de1d140",
   "metadata": {},
   "source": [
    "# 9.Write a Python program to print the prime numbers for a user provided range. "
   ]
  },
  {
   "cell_type": "markdown",
   "id": "234a5aff",
   "metadata": {},
   "source": [
    "Step 1:Get lower and upper value from user\n",
    "Step 2: Run a for loop(num) fom lower to Upper + 1 values\n",
    "Step 3: Inside loop\n",
    "            if num>1:\n",
    "                for i in range(2,num):\n",
    "                    if num%i=0\n",
    "                        break\n",
    "                else\n",
    "                    print(num)"
   ]
  },
  {
   "cell_type": "code",
   "execution_count": 19,
   "id": "e945b3b2",
   "metadata": {},
   "outputs": [
    {
     "name": "stdout",
     "output_type": "stream",
     "text": [
      "Enter lower range: 10\n",
      "Enter upper range: 20\n",
      "11\n",
      "13\n",
      "17\n",
      "19\n"
     ]
    }
   ],
   "source": [
    "lower=int(input(\"Enter lower range: \"))\n",
    "upper=int(input(\"Enter upper range: \"))\n",
    "\n",
    "for num in range(lower,upper + 1):\n",
    "    if num>1:\n",
    "        for i in range(2, num):\n",
    "            if (num%i)==0:\n",
    "                break\n",
    "        else:\n",
    "            print(num)"
   ]
  },
  {
   "cell_type": "markdown",
   "id": "f0834260",
   "metadata": {},
   "source": [
    "# 10.Using a for loop, write a program that prints the decimal equivalents of 1/2, 1/3, 1/4 ,....... 1/10"
   ]
  },
  {
   "cell_type": "markdown",
   "id": "fde87c5a",
   "metadata": {},
   "source": [
    "Step 1:Run a for loop from 2 to 11 values\n",
    "Step 2:Inside loop \n",
    "        print(1/i)"
   ]
  },
  {
   "cell_type": "code",
   "execution_count": 21,
   "id": "fa45145c",
   "metadata": {},
   "outputs": [
    {
     "name": "stdout",
     "output_type": "stream",
     "text": [
      "0.5, 0.3333333333333333, 0.25, 0.2, 0.16666666666666666, 0.14285714285714285, 0.125, 0.1111111111111111, 0.1, "
     ]
    }
   ],
   "source": [
    "for i in range(2,11):\n",
    "     print((1/i),end=\", \") "
   ]
  },
  {
   "cell_type": "markdown",
   "id": "b89037c0",
   "metadata": {},
   "source": [
    "# 11.Write a program for displaying reversal of a number."
   ]
  },
  {
   "cell_type": "markdown",
   "id": "40176c80",
   "metadata": {},
   "source": [
    "Step 1: Get a numbe from user\n",
    "Step 2:Initialize temp=num,rev=0\n",
    "Step 3: while num>0\n",
    "            rem=num%10\n",
    "            rev=(rev * 10)+rem\n",
    "            num=num/10\n",
    "Step 4:print reverse number"
   ]
  },
  {
   "cell_type": "code",
   "execution_count": 23,
   "id": "87058c2e",
   "metadata": {},
   "outputs": [
    {
     "name": "stdout",
     "output_type": "stream",
     "text": [
      "123\n",
      "Before reverse =  123 , After reverse =  321\n"
     ]
    }
   ],
   "source": [
    "num=int(input())\n",
    "temp=num\n",
    "rev=0\n",
    "while num>0:\n",
    "    rem=num%10            \n",
    "    rev=(rev*10)+rem      \n",
    "    num=num//10\n",
    "print(\"Before reverse = \",temp, \", After reverse = \",rev)"
   ]
  },
  {
   "cell_type": "markdown",
   "id": "e668304b",
   "metadata": {},
   "source": [
    "# 12.\tWrite a program using a while loop that asks the user for a number, and prints a countdown from that number to zero."
   ]
  },
  {
   "cell_type": "markdown",
   "id": "af36dae4",
   "metadata": {},
   "source": [
    "Step 1: Get number from User\n",
    "Step 2: while n>=0\n",
    "            print(n)\n",
    "            n=n-1"
   ]
  },
  {
   "cell_type": "code",
   "execution_count": 24,
   "id": "57d995bf",
   "metadata": {},
   "outputs": [
    {
     "name": "stdout",
     "output_type": "stream",
     "text": [
      "Enter number: 10\n",
      "10\n",
      "9\n",
      "8\n",
      "7\n",
      "6\n",
      "5\n",
      "4\n",
      "3\n",
      "2\n",
      "1\n",
      "0\n"
     ]
    }
   ],
   "source": [
    "n=int(input('Enter number: '))\n",
    "while n>=0:\n",
    "    print(n)\n",
    "    n-=1"
   ]
  },
  {
   "cell_type": "markdown",
   "id": "ecfcc2ac",
   "metadata": {},
   "source": [
    "# 13.Write a program for result analysis (get mark as user input and produce grade as output) –use else if ladder."
   ]
  },
  {
   "cell_type": "markdown",
   "id": "3389419e",
   "metadata": {},
   "source": [
    "Step 1: Get 3 subject mark from user\n",
    "Step 2: Calculate average of 3 subject\n",
    "Step 3: if avg >= 90\n",
    "            print(\"A grade\")\n",
    "        elif avg >= 80\n",
    "            print(\"B grade\")\n",
    "        elif avg >= 70\n",
    "            print(\"C grade\")\n",
    "        elif avg >= 60\n",
    "            print(\"D grade\")\n",
    "        elif avg >= 50\n",
    "            print(\"E grade\")\n",
    "        else\n",
    "            print(\"F grade\")\n",
    "         "
   ]
  },
  {
   "cell_type": "code",
   "execution_count": 25,
   "id": "82ca7048",
   "metadata": {},
   "outputs": [
    {
     "name": "stdout",
     "output_type": "stream",
     "text": [
      "Enter marks of English: 50\n",
      "Enter marks of Maths: 40\n",
      "Enter marks of Computer: 90\n",
      "Grade: D\n"
     ]
    }
   ],
   "source": [
    "sub1=int(input(\"Enter marks of English: \"))\n",
    "sub2=int(input(\"Enter marks of Maths: \"))\n",
    "sub3=int(input(\"Enter marks of Computer: \"))\n",
    "avg=(sub1+sub2+sub3)/3\n",
    "\n",
    "if avg>=90:\n",
    "    print(\"Grade: A\")\n",
    "elif avg>=80:\n",
    "    print(\"Grade: B\")\n",
    "elif avg>=70:\n",
    "    print(\"Grade: C\")\n",
    "elif avg>=60:\n",
    "    print(\"Grade: D\")\n",
    "elif avg>=50:\n",
    "    print(\"Grade: E\")\n",
    "else:\n",
    "    print(\"Grade: F\")"
   ]
  },
  {
   "cell_type": "code",
   "execution_count": null,
   "id": "f3061461",
   "metadata": {},
   "outputs": [],
   "source": []
  }
 ],
 "metadata": {
  "kernelspec": {
   "display_name": "Python 3 (ipykernel)",
   "language": "python",
   "name": "python3"
  },
  "language_info": {
   "codemirror_mode": {
    "name": "ipython",
    "version": 3
   },
   "file_extension": ".py",
   "mimetype": "text/x-python",
   "name": "python",
   "nbconvert_exporter": "python",
   "pygments_lexer": "ipython3",
   "version": "3.8.11"
  }
 },
 "nbformat": 4,
 "nbformat_minor": 5
}
