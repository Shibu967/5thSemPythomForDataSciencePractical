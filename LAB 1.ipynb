{
 "cells": [
  {
   "cell_type": "markdown",
   "id": "13209589",
   "metadata": {},
   "source": [
    "# Lab 1"
   ]
  },
  {
   "cell_type": "markdown",
   "id": "325d76fa",
   "metadata": {},
   "source": [
    "### Shibu Kumari<br>190570107146"
   ]
  },
  {
   "cell_type": "markdown",
   "id": "47cf1b92",
   "metadata": {},
   "source": [
    "## Exercise 1: Exercise on List, Tuple, Dictionary and Set."
   ]
  },
  {
   "cell_type": "markdown",
   "id": "290df1fe",
   "metadata": {},
   "source": [
    "### 1) Create a list and perform the operations using following methods"
   ]
  },
  {
   "cell_type": "markdown",
   "id": "4e5275ca",
   "metadata": {},
   "source": [
    "Explanation:\n",
    "Lists in Python are one of the most versatile collection object types available. The other\n",
    "two types are dictionaries and tuples, but they are really more like variations of lists."
   ]
  },
  {
   "cell_type": "code",
   "execution_count": 1,
   "id": "0c31e426",
   "metadata": {},
   "outputs": [
    {
     "name": "stdout",
     "output_type": "stream",
     "text": [
      "LIST\n",
      "['apple', 'bat', 'cat']\n"
     ]
    }
   ],
   "source": [
    "print(\"LIST\")\n",
    "list1 = [\"apple\", \"bat\", \"cat\"]\n",
    "print(list1)"
   ]
  },
  {
   "cell_type": "code",
   "execution_count": 2,
   "id": "4b653098",
   "metadata": {},
   "outputs": [
    {
     "name": "stdout",
     "output_type": "stream",
     "text": [
      "['apple', 'bat', 'cat', 'dog']\n"
     ]
    }
   ],
   "source": [
    "#insert\n",
    "#syntex: list_name.insert(<location>, <value>)\n",
    "list1.insert(3, \"dog\")\n",
    "print(list1)"
   ]
  },
  {
   "cell_type": "code",
   "execution_count": 3,
   "id": "6613621b",
   "metadata": {},
   "outputs": [
    {
     "name": "stdout",
     "output_type": "stream",
     "text": [
      "['bat', 'cat', 'dog']\n"
     ]
    }
   ],
   "source": [
    "#remove\n",
    "#syntex: listname.remove(<value>)\n",
    "list1.remove(\"apple\")\n",
    "print(list1)"
   ]
  },
  {
   "cell_type": "code",
   "execution_count": 4,
   "id": "7987f033",
   "metadata": {},
   "outputs": [
    {
     "name": "stdout",
     "output_type": "stream",
     "text": [
      "['bat', 'cat', 'dog', 'elephant']\n"
     ]
    }
   ],
   "source": [
    "#append\n",
    "#syntex: listname.append(<value>)\n",
    "list1.append(\"elephant\")\n",
    "print(list1)"
   ]
  },
  {
   "cell_type": "code",
   "execution_count": 5,
   "id": "8c00dbcb",
   "metadata": {},
   "outputs": [
    {
     "name": "stdout",
     "output_type": "stream",
     "text": [
      "4\n"
     ]
    }
   ],
   "source": [
    "#length\n",
    "#len(list_name)\n",
    "print(len(list1))"
   ]
  },
  {
   "cell_type": "code",
   "execution_count": 6,
   "id": "b173444f",
   "metadata": {},
   "outputs": [
    {
     "name": "stdout",
     "output_type": "stream",
     "text": [
      "['bat', 'cat', 'dog']\n"
     ]
    }
   ],
   "source": [
    "#pop\n",
    "#syntex: list_name.pop()\n",
    "list1.pop()\n",
    "print(list1)"
   ]
  },
  {
   "cell_type": "code",
   "execution_count": 7,
   "id": "e404b069",
   "metadata": {},
   "outputs": [
    {
     "name": "stdout",
     "output_type": "stream",
     "text": [
      "[]\n"
     ]
    }
   ],
   "source": [
    "#clear\n",
    "#syntex: list_name.clear()\n",
    "list1.clear()\n",
    "print(list1)"
   ]
  },
  {
   "cell_type": "markdown",
   "id": "7aaa3988",
   "metadata": {},
   "source": [
    "### 2) Create a dictionary and apply the following methods."
   ]
  },
  {
   "cell_type": "markdown",
   "id": "21c5bfaf",
   "metadata": {},
   "source": [
    "Explanation:\n",
    "Dictionary in Python is an ordered collection of data values, used to store data values\n",
    "like a map, which, unlike other Data Types that hold only a single value as an element,\n",
    "Dictionary holds key:value pair. Key-value is provided in the dictionary to make it more\n",
    "optimized."
   ]
  },
  {
   "cell_type": "code",
   "execution_count": 9,
   "id": "f16eac3f",
   "metadata": {},
   "outputs": [
    {
     "name": "stdout",
     "output_type": "stream",
     "text": [
      "DICTIONARY\n"
     ]
    }
   ],
   "source": [
    "print(\"DICTIONARY\")\n",
    "dict1 = {\n",
    " \"fruit\" : \"mango\",\n",
    " \"color\" : \"yellow\",\n",
    " \"season\" : \"summer\"\n",
    "}"
   ]
  },
  {
   "cell_type": "code",
   "execution_count": 10,
   "id": "11253e8c",
   "metadata": {},
   "outputs": [
    {
     "name": "stdout",
     "output_type": "stream",
     "text": [
      "{'fruit': 'mango', 'color': 'yellow', 'season': 'summer'}\n"
     ]
    }
   ],
   "source": [
    "#print\n",
    "#syntex: print(<dictioary_name>)\n",
    "print(dict1)"
   ]
  },
  {
   "cell_type": "code",
   "execution_count": 11,
   "id": "d19e4d18",
   "metadata": {},
   "outputs": [
    {
     "name": "stdout",
     "output_type": "stream",
     "text": [
      "yellow\n"
     ]
    }
   ],
   "source": [
    "#access items\n",
    "#syntex: print(dictionary_name([key_name]))\n",
    "print(dict1[\"color\"])"
   ]
  },
  {
   "cell_type": "code",
   "execution_count": 12,
   "id": "d91e6f91",
   "metadata": {},
   "outputs": [
    {
     "name": "stdout",
     "output_type": "stream",
     "text": [
      "mango\n"
     ]
    }
   ],
   "source": [
    "#use get()\n",
    "#syntex: dictory_name.get(<key_name>)\n",
    "print(dict1.get(\"fruit\"))"
   ]
  },
  {
   "cell_type": "code",
   "execution_count": 13,
   "id": "0552c3f6",
   "metadata": {},
   "outputs": [
    {
     "name": "stdout",
     "output_type": "stream",
     "text": [
      "{'fruit': 'mango', 'color': 'green', 'season': 'summer'}\n"
     ]
    }
   ],
   "source": [
    "#change values\n",
    "#syntex: dictionary_name[\"<key_name>\"] = \"new_value\"\n",
    "dict1[\"color\"] = \"green\"\n",
    "print(dict1)"
   ]
  },
  {
   "cell_type": "code",
   "execution_count": 14,
   "id": "800fe307",
   "metadata": {},
   "outputs": [
    {
     "name": "stdout",
     "output_type": "stream",
     "text": [
      "3\n"
     ]
    }
   ],
   "source": [
    "#length\n",
    "#syntex: len(dictionary_name)\n",
    "print(len(dict1))"
   ]
  },
  {
   "cell_type": "markdown",
   "id": "dd3af10a",
   "metadata": {},
   "source": [
    "### 3) Create a tuple and perform the following methods."
   ]
  },
  {
   "cell_type": "markdown",
   "id": "ed102bc6",
   "metadata": {},
   "source": [
    "Explanation:\n",
    "Tuple is a collection of Python objects much like a list. The sequence of values stored\n",
    "in a tuple can be of any type, and they are indexed by integers.\n",
    "Values of a tuple are syntactically separated by ‘commas’. Although it is not necessary,\n",
    "it is more common to define a tuple by closing the sequence of values in parentheses.\n",
    "This helps in understanding the Python tuples more easily."
   ]
  },
  {
   "cell_type": "code",
   "execution_count": 16,
   "id": "d99c56b7",
   "metadata": {},
   "outputs": [
    {
     "name": "stdout",
     "output_type": "stream",
     "text": [
      "TUPLE\n"
     ]
    }
   ],
   "source": [
    "print(\"TUPLE\")\n",
    "tuple1 = (\"A\", \"B\", \"C\", \"D\")"
   ]
  },
  {
   "cell_type": "code",
   "execution_count": 17,
   "id": "815c2ee6",
   "metadata": {},
   "outputs": [
    {
     "name": "stdout",
     "output_type": "stream",
     "text": [
      "('A', 'B', 'C', 'D')\n"
     ]
    }
   ],
   "source": [
    "#add items\n",
    "#syntex:\n",
    "#tuple1.add(4, \"E\")\n",
    "print(tuple1)"
   ]
  },
  {
   "cell_type": "code",
   "execution_count": 18,
   "id": "76cba252",
   "metadata": {},
   "outputs": [
    {
     "name": "stdout",
     "output_type": "stream",
     "text": [
      "4\n"
     ]
    }
   ],
   "source": [
    "#length\n",
    "#syntex: len(<tuple_name>)\n",
    "print(len(tuple1))\n"
   ]
  },
  {
   "cell_type": "code",
   "execution_count": 19,
   "id": "6d5982d3",
   "metadata": {},
   "outputs": [
    {
     "name": "stdout",
     "output_type": "stream",
     "text": [
      "Yes, 'A' is in the tuple1\n"
     ]
    }
   ],
   "source": [
    "#check for an item in tuple\n",
    "#syntex: if <item_name> in <tuple_name>: <message>\n",
    "if \"A\" in tuple1:\n",
    " print(\"Yes, 'A' is in the tuple1\")"
   ]
  },
  {
   "cell_type": "code",
   "execution_count": 20,
   "id": "951aba17",
   "metadata": {},
   "outputs": [
    {
     "name": "stdout",
     "output_type": "stream",
     "text": [
      "C\n"
     ]
    }
   ],
   "source": [
    "#access items\n",
    "print(tuple1[2])"
   ]
  },
  {
   "cell_type": "markdown",
   "id": "6cb27e00",
   "metadata": {},
   "source": [
    "### 4) Implement and understand the use of all given functions for dictionary.\n"
   ]
  },
  {
   "cell_type": "code",
   "execution_count": 21,
   "id": "2e86c3e8",
   "metadata": {},
   "outputs": [
    {
     "name": "stdout",
     "output_type": "stream",
     "text": [
      "FUNCTIONS ON DICTIONARY\n",
      "{'Name': 'Shibu', 'Class': 'EC2', 'Batch': 'A'}\n",
      "{'Er. No.': '190570107153', 'Branch': 'CE'}\n"
     ]
    }
   ],
   "source": [
    "print(\"FUNCTIONS ON DICTIONARY\")\n",
    "d1 = {\n",
    "\n",
    "\"Name\" :\"Shibu\",\n",
    "\"Class\" : \"EC2\",\n",
    " \"Batch\" : \"A\" }\n",
    "d2 = {\n",
    " \"Er. No.\" :\n",
    "\"190570107153\",\n",
    "\"Branch\" : \"CE\" }\n",
    "d3 = 0\n",
    "print(d1)\n",
    "print(d2)"
   ]
  },
  {
   "cell_type": "code",
   "execution_count": 22,
   "id": "be9bcea1",
   "metadata": {},
   "outputs": [
    {
     "name": "stdout",
     "output_type": "stream",
     "text": [
      "{}\n"
     ]
    }
   ],
   "source": [
    "#clear() : removes all the elements from the dictionary\n",
    "#syntex: <dictionary_name>.clear()\n",
    "dict1.clear()\n",
    "print(dict1)\n"
   ]
  },
  {
   "cell_type": "code",
   "execution_count": 24,
   "id": "dfcee915",
   "metadata": {},
   "outputs": [
    {
     "name": "stdout",
     "output_type": "stream",
     "text": [
      "{'Name': 'Shibu', 'Class': 'EC2', 'Batch': 'A'}\n"
     ]
    }
   ],
   "source": [
    "#copy() : returns a copy of the elements\n",
    "#syntex: <dictionary_name>.copy()\n",
    "cp = d1.copy()\n",
    "print(cp)"
   ]
  },
  {
   "cell_type": "code",
   "execution_count": 25,
   "id": "403ab168",
   "metadata": {},
   "outputs": [
    {
     "name": "stdout",
     "output_type": "stream",
     "text": [
      "{'Name': 0, 'Class': 0, 'Batch': 0}\n"
     ]
    }
   ],
   "source": [
    "#fromkeys() : returns a dictionary with specified keys and value\n",
    "#syntex: dict.fromkeys(<dict1_name>, <dict2_name>)\n",
    "print(dict.fromkeys(d1, d3))\n"
   ]
  },
  {
   "cell_type": "code",
   "execution_count": 26,
   "id": "ecb62133",
   "metadata": {},
   "outputs": [
    {
     "name": "stdout",
     "output_type": "stream",
     "text": [
      "Shibu\n"
     ]
    }
   ],
   "source": [
    "#get() : returns the value of the specified key\n",
    "#syntex: <dict_name>.get(<key_name>)\n",
    "print(d1.get(\"Name\"))"
   ]
  },
  {
   "cell_type": "code",
   "execution_count": 27,
   "id": "ca6a7889",
   "metadata": {},
   "outputs": [
    {
     "name": "stdout",
     "output_type": "stream",
     "text": [
      "dict_items([('Er. No.', '190570107153'), ('Branch', 'CE')])\n"
     ]
    }
   ],
   "source": [
    "#items() : returns a list containing a tuple for each key value pair\n",
    "#syntex: <dict_name>.items()\n",
    "print(d2.items())\n"
   ]
  },
  {
   "cell_type": "code",
   "execution_count": 28,
   "id": "549e07d6",
   "metadata": {},
   "outputs": [
    {
     "name": "stdout",
     "output_type": "stream",
     "text": [
      "dict_keys(['Er. No.', 'Branch'])\n"
     ]
    }
   ],
   "source": [
    "#keys() : returns a list containing the dictionary's key\n",
    "#syntex: <dict_name>.keys()\n",
    "print(d2.keys())"
   ]
  },
  {
   "cell_type": "code",
   "execution_count": 29,
   "id": "88c2c27e",
   "metadata": {},
   "outputs": [
    {
     "name": "stdout",
     "output_type": "stream",
     "text": [
      "A\n"
     ]
    }
   ],
   "source": [
    "#pop() : removes the element with the specified key\n",
    "#syntex: <dict_name>.pop(<key_name>)\n",
    "print(d1.pop(\"Batch\"))"
   ]
  },
  {
   "cell_type": "code",
   "execution_count": 30,
   "id": "b07bb0e3",
   "metadata": {},
   "outputs": [
    {
     "name": "stdout",
     "output_type": "stream",
     "text": [
      "('Branch', 'CE')\n"
     ]
    }
   ],
   "source": [
    "#popitem() : removes the last inserted key-value pair\n",
    "#syntex: <dict_name>.popitem()\n",
    "print(d2.popitem())"
   ]
  },
  {
   "cell_type": "code",
   "execution_count": 31,
   "id": "6c87559d",
   "metadata": {},
   "outputs": [
    {
     "name": "stdout",
     "output_type": "stream",
     "text": [
      "{'Name': 'Shibu', 'Class': 'EC2', 'Semester': '5'}\n"
     ]
    }
   ],
   "source": [
    "#setdefault() : returns the value of the specified key. If the keys doesn't exist\n",
    "#(insert the key with specified value)\n",
    "#syntex: <dict_name>.setdefault(<key_name>, <value>)\n",
    "setdef = d1.setdefault(\"Semester\", \"5\")\n",
    "print(d1) "
   ]
  },
  {
   "cell_type": "code",
   "execution_count": 32,
   "id": "70930052",
   "metadata": {},
   "outputs": [
    {
     "name": "stdout",
     "output_type": "stream",
     "text": [
      "{'Name': 'Shibu', 'Class': '5EC2', 'Semester': '5'}\n"
     ]
    }
   ],
   "source": [
    "#update() : updates the dictionary with specified key-value pair\n",
    "#syntex: <dict_name>.update({<key_name> : <value_name>})\n",
    "d1.update({\"Class\" : \"5EC2\"})\n",
    "print(d1) "
   ]
  },
  {
   "cell_type": "code",
   "execution_count": 33,
   "id": "e1c67fe6",
   "metadata": {},
   "outputs": [
    {
     "name": "stdout",
     "output_type": "stream",
     "text": [
      "dict_values(['Shibu', '5EC2', '5'])\n"
     ]
    }
   ],
   "source": [
    "#values() : returns a list of all the values in the dictionary\n",
    "#syntex: <dict_name>.values()\n",
    "print(d1.values())"
   ]
  },
  {
   "cell_type": "markdown",
   "id": "e36ca7a9",
   "metadata": {},
   "source": [
    "### 5) Create a set and perform the given operations."
   ]
  },
  {
   "cell_type": "markdown",
   "id": "07340218",
   "metadata": {},
   "source": [
    "Explanation:\n",
    "A Set is an unordered collection data type that is iterable, mutable and has no duplicate\n",
    "elements. Python’s set class represents the mathematical notion of a set. The major\n",
    "advantage of using a set, as opposed to a list, is that it has a highly optimized method\n",
    "for checking whether a specific element is contained in the set.Since sets are\n",
    "unordered, we cannot access items using indexes like we do in lists."
   ]
  },
  {
   "cell_type": "code",
   "execution_count": 34,
   "id": "84595921",
   "metadata": {},
   "outputs": [
    {
     "name": "stdout",
     "output_type": "stream",
     "text": [
      "SET\n",
      "{'1', '4', '2', '3'}\n",
      "{'4', '8', '2', '6'}\n"
     ]
    }
   ],
   "source": [
    "print(\"SET\")\n",
    "set1 = {\"1\", \"2\", \"3\", \"4\"}\n",
    "set2 = {\"2\", \"6\", \"4\", \"8\"}\n",
    "print(set1)\n",
    "print(set2)"
   ]
  },
  {
   "cell_type": "code",
   "execution_count": 35,
   "id": "6cf793eb",
   "metadata": {},
   "outputs": [
    {
     "name": "stdout",
     "output_type": "stream",
     "text": [
      "{'8', '4', '1', '2', '6', '3'}\n"
     ]
    }
   ],
   "source": [
    "#union\n",
    "#syntex: <set_1>.union(<set_2>)\n",
    "u = set1.union(set2)\n",
    "print(u)"
   ]
  },
  {
   "cell_type": "code",
   "execution_count": 37,
   "id": "8ab6cd5c",
   "metadata": {},
   "outputs": [
    {
     "name": "stdout",
     "output_type": "stream",
     "text": [
      "{'2', '4'}\n"
     ]
    }
   ],
   "source": [
    "#intersection\n",
    "#syntex: <set_1>.intersection(<set_2>)\n",
    "i = set1.intersection(set2)\n",
    "print(i)"
   ]
  },
  {
   "cell_type": "code",
   "execution_count": 38,
   "id": "c6a16d85",
   "metadata": {},
   "outputs": [
    {
     "name": "stdout",
     "output_type": "stream",
     "text": [
      "{'1', '3'}\n",
      "set()\n"
     ]
    }
   ],
   "source": [
    "#difference\n",
    "#syntex: <set_1>.difference(<set_2>)\n",
    "dif1 = set1.difference(set2)\n",
    "print(dif1)\n",
    "dif2 = set2.difference(set2)\n",
    "print(dif2)\n"
   ]
  },
  {
   "cell_type": "code",
   "execution_count": 39,
   "id": "f7df248d",
   "metadata": {},
   "outputs": [
    {
     "name": "stdout",
     "output_type": "stream",
     "text": [
      "{'8', '1', '6', '3'}\n"
     ]
    }
   ],
   "source": [
    "#symmetric difference\n",
    "#syntex: <set_1>.symmetric_difference(<set_2>)\n",
    "sd = set1.symmetric_difference(set2)\n",
    "print(sd)"
   ]
  },
  {
   "cell_type": "code",
   "execution_count": null,
   "id": "94cbe22b",
   "metadata": {},
   "outputs": [],
   "source": []
  }
 ],
 "metadata": {
  "kernelspec": {
   "display_name": "Python 3 (ipykernel)",
   "language": "python",
   "name": "python3"
  },
  "language_info": {
   "codemirror_mode": {
    "name": "ipython",
    "version": 3
   },
   "file_extension": ".py",
   "mimetype": "text/x-python",
   "name": "python",
   "nbconvert_exporter": "python",
   "pygments_lexer": "ipython3",
   "version": "3.8.11"
  }
 },
 "nbformat": 4,
 "nbformat_minor": 5
}
