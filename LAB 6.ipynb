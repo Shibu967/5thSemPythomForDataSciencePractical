{
 "cells": [
  {
   "cell_type": "markdown",
   "id": "5d5d944b",
   "metadata": {},
   "source": [
    "### Shibu Kumari<br>190570107146"
   ]
  },
  {
   "cell_type": "markdown",
   "id": "489bdd22",
   "metadata": {},
   "source": [
    "# LAB 6"
   ]
  },
  {
   "cell_type": "markdown",
   "id": "a770c929",
   "metadata": {},
   "source": [
    "# 1-Write a NumPy program to convert a list of numeric value into a one-     dimensional NumPy array"
   ]
  },
  {
   "cell_type": "markdown",
   "id": "f1e7a39d",
   "metadata": {},
   "source": [
    "Step 1 : import numpy library\n",
    "Step 2 : create list \n",
    "Step 3 : use function to create NumPy Array and pass list as argument\n",
    "Step 4 : print NumPy array"
   ]
  },
  {
   "cell_type": "code",
   "execution_count": 1,
   "id": "b83c38a2",
   "metadata": {},
   "outputs": [
    {
     "name": "stdout",
     "output_type": "stream",
     "text": [
      "Original List: [12.23, 13.32, 100, 36.32]\n",
      "One-dimensional NumPy array:  [ 12.23  13.32 100.    36.32]\n"
     ]
    }
   ],
   "source": [
    "import numpy as np\n",
    "l = [12.23, 13.32, 100, 36.32]\n",
    "print(\"Original List:\",l)\n",
    "a = np.array(l)\n",
    "print(\"One-dimensional NumPy array: \",a)\n"
   ]
  },
  {
   "cell_type": "markdown",
   "id": "c458d256",
   "metadata": {},
   "source": [
    "# 2-Write a NumPy program to create a 3x3 matrix with values ranging from 2 to 10"
   ]
  },
  {
   "cell_type": "markdown",
   "id": "08d289b6",
   "metadata": {},
   "source": [
    "Step 1 : import numpy Library\n",
    "Step 2 : use arange() function and pass 2,11 for range and for 3 * 3 matrix passs 3,3 in reshape() function\n",
    "Step 3 : print matrix"
   ]
  },
  {
   "cell_type": "code",
   "execution_count": 2,
   "id": "760b92db",
   "metadata": {},
   "outputs": [
    {
     "name": "stdout",
     "output_type": "stream",
     "text": [
      "[[ 2  3  4]\n",
      " [ 5  6  7]\n",
      " [ 8  9 10]]\n"
     ]
    }
   ],
   "source": [
    "import numpy as np\n",
    "x =  np.arange(2, 11).reshape(3,3)\n",
    "print(x)"
   ]
  },
  {
   "cell_type": "markdown",
   "id": "995057ba",
   "metadata": {},
   "source": [
    "# 3-Write a NumPy program to create a null vector of size 10 and update sixth value to 11"
   ]
  },
  {
   "cell_type": "markdown",
   "id": "eb8881fe",
   "metadata": {},
   "source": [
    "Step 1 : import numpy Library\n",
    "Step 2 : create vector of 10 size using zeros() function\n",
    "Step 3 : assign 11 to 6th position of vector \n",
    "Step 4 : print vector"
   ]
  },
  {
   "cell_type": "code",
   "execution_count": 3,
   "id": "c406e943",
   "metadata": {},
   "outputs": [
    {
     "name": "stdout",
     "output_type": "stream",
     "text": [
      "[0. 0. 0. 0. 0. 0. 0. 0. 0. 0.]\n",
      "Update sixth value to 11\n",
      "[ 0.  0.  0.  0.  0.  0. 11.  0.  0.  0.]\n"
     ]
    }
   ],
   "source": [
    "import numpy as np\n",
    "x = np.zeros(10)\n",
    "print(x)\n",
    "print(\"Update sixth value to 11\")\n",
    "x[6] = 11\n",
    "print(x)"
   ]
  },
  {
   "cell_type": "markdown",
   "id": "59ab18ae",
   "metadata": {},
   "source": [
    "# 4-Write a NumPy program to create an array with values ranging from 12 to 38"
   ]
  },
  {
   "cell_type": "markdown",
   "id": "35a767b0",
   "metadata": {},
   "source": [
    "Step 1 : import numpy Library\n",
    "Step 2 : use arange() function and pass 12,38 for creating array in range from 12 to 38\n",
    "Step 3 : print array"
   ]
  },
  {
   "cell_type": "code",
   "execution_count": 4,
   "id": "7a26f3b8",
   "metadata": {},
   "outputs": [
    {
     "name": "stdout",
     "output_type": "stream",
     "text": [
      "[12 13 14 15 16 17 18 19 20 21 22 23 24 25 26 27 28 29 30 31 32 33 34 35\n",
      " 36 37]\n"
     ]
    }
   ],
   "source": [
    "import numpy as np\n",
    "x = np.arange(12, 38)\n",
    "print(x)"
   ]
  },
  {
   "cell_type": "markdown",
   "id": "59c4e1b1",
   "metadata": {},
   "source": [
    "# 5-Write a NumPy program compare two given arrays"
   ]
  },
  {
   "cell_type": "markdown",
   "id": "fbcfbc89",
   "metadata": {},
   "source": [
    "Step 1 : import numpy Library\n",
    "Step 2 : create two array using array function\n",
    "Step 3 : use greater() fucntion and pass a,b(arrays) to check a > b\n",
    "Step 4 : use greater_equal() fucntion and pass a,b(arrays) to check a >= b\n",
    "Step 5 : use less() fucntion and pass a,b(arrays) to check a < b\n",
    "Step 6 : use less_equal() fucntion and pass a,b(arrays) to check a <= b"
   ]
  },
  {
   "cell_type": "code",
   "execution_count": 1,
   "id": "6ce1198c",
   "metadata": {},
   "outputs": [
    {
     "name": "stdout",
     "output_type": "stream",
     "text": [
      "Array a:  [1 2]\n",
      "Array b:  [4 5]\n",
      "a > b\n",
      "[False False]\n",
      "a >= b\n",
      "[False False]\n",
      "a < b\n",
      "[ True  True]\n",
      "a <= b\n",
      "[ True  True]\n"
     ]
    }
   ],
   "source": [
    "import numpy as np\n",
    "a = np.array([1, 2])\n",
    "b = np.array([4, 5])\n",
    "print(\"Array a: \",a)\n",
    "print(\"Array b: \",b)\n",
    "print(\"a > b\")\n",
    "print(np.greater(a, b))\n",
    "print(\"a >= b\")\n",
    "print(np.greater_equal(a, b))\n",
    "print(\"a < b\")\n",
    "print(np.less(a, b))\n",
    "print(\"a <= b\")\n",
    "print(np.less_equal(a, b))"
   ]
  },
  {
   "cell_type": "markdown",
   "id": "a3575686",
   "metadata": {},
   "source": [
    "# 6-Write a NumPy program to sort an along the first, last axis of an array"
   ]
  },
  {
   "cell_type": "markdown",
   "id": "709f0043",
   "metadata": {},
   "source": [
    "Step 1 : import numpy Library\n",
    "Step 2 : create two numpy array\n",
    "Step 3 : for sorting along the first axis : \n",
    "            use sort function pass (array,axis=0) then print array\n",
    "Step 4 : for sorting along the last axis : \n",
    "            use sort function pass (array,axis=1) then print array"
   ]
  },
  {
   "cell_type": "code",
   "execution_count": 2,
   "id": "16575070",
   "metadata": {},
   "outputs": [
    {
     "name": "stdout",
     "output_type": "stream",
     "text": [
      "Original array: \n",
      "[[4 6]\n",
      " [2 1]]\n",
      "Sort along the first axis: \n",
      "[[2 1]\n",
      " [4 6]]\n",
      "Sort along the last axis: \n",
      "[[1 2]\n",
      " [4 6]]\n"
     ]
    }
   ],
   "source": [
    "import numpy as np\n",
    "a = np.array([[4, 6],[2, 1]])\n",
    "print(\"Original array: \")\n",
    "print(a)\n",
    "print(\"Sort along the first axis: \")\n",
    "x = np.sort(a, axis=0)\n",
    "print(x)\n",
    "print(\"Sort along the last axis: \")\n",
    "y = np.sort(x, axis=1)\n",
    "print(y)"
   ]
  },
  {
   "cell_type": "markdown",
   "id": "c8fdfeb3",
   "metadata": {},
   "source": [
    "# 7-Write a NumPy program to get the values and indices of the elements that are bigger than 10 in a given array"
   ]
  },
  {
   "cell_type": "markdown",
   "id": "fdc6babb",
   "metadata": {},
   "source": [
    "Step 1 : import numpy Library\n",
    "Step 2 : create array\n",
    "Step 3 : for finding values that are bigger than 10 \n",
    "            use arrayname[arrayname > 10] and print\n",
    "Step 4 : for finding their indices \n",
    "            use nonzero(arrayname > 10) and print "
   ]
  },
  {
   "cell_type": "code",
   "execution_count": 3,
   "id": "e33aa823",
   "metadata": {},
   "outputs": [
    {
     "name": "stdout",
     "output_type": "stream",
     "text": [
      "Original array: \n",
      "[[ 0 10 20]\n",
      " [20 30 40]]\n",
      "Values bigger than 10 = [20 20 30 40]\n",
      "Their indices are  (array([0, 1, 1, 1], dtype=int64), array([2, 0, 1, 2], dtype=int64))\n"
     ]
    }
   ],
   "source": [
    "import numpy as np\n",
    "x = np.array([[0, 10, 20], [20, 30, 40]])\n",
    "print(\"Original array: \")\n",
    "print(x)\n",
    "print(\"Values bigger than 10 =\", x[x>10])\n",
    "print(\"Their indices are \", np.nonzero(x > 10))"
   ]
  },
  {
   "cell_type": "markdown",
   "id": "346393fd",
   "metadata": {},
   "source": [
    "# 8-Write a NumPy program to change the dimension of an array"
   ]
  },
  {
   "cell_type": "markdown",
   "id": "ae010ead",
   "metadata": {},
   "source": [
    "Step 1 : import numpy Library\n",
    "Step 2 : create array of (6,0)\n",
    "Step 3 : create array of (3,3)\n",
    "Step 4 : add more 3 values in array that we created first \n",
    "Step 5 : give (3,3) to arrayname.shape  (arrayname.shape=(3,3))\n",
    "Step 6 : print array"
   ]
  },
  {
   "cell_type": "code",
   "execution_count": 5,
   "id": "6aef5ba0",
   "metadata": {},
   "outputs": [
    {
     "name": "stdout",
     "output_type": "stream",
     "text": [
      "6 rows and 0 columns\n",
      "(6,)\n",
      "(3, 3) -> 3 rows and 3 columns \n",
      "[[1 2 3]\n",
      " [4 5 6]\n",
      " [7 8 9]]\n",
      "Change array shape to (3, 3) -> 3 rows and 3 columns \n",
      "[[1 2 3]\n",
      " [4 5 6]\n",
      " [7 8 9]]\n"
     ]
    }
   ],
   "source": [
    "import numpy as np\n",
    "x = np.array([1, 2, 3, 4, 5, 6])\n",
    "print(\"6 rows and 0 columns\")\n",
    "print(x.shape)\n",
    "\n",
    "y = np.array([[1, 2, 3],[4, 5, 6],[7,8,9]])\n",
    "print(\"(3, 3) -> 3 rows and 3 columns \")\n",
    "print(y)\n",
    "\n",
    "x = np.array([1,2,3,4,5,6,7,8,9])\n",
    "print(\"Change array shape to (3, 3) -> 3 rows and 3 columns \")\n",
    "x.shape = (3, 3)\n",
    "print(x)"
   ]
  }
 ],
 "metadata": {
  "kernelspec": {
   "display_name": "Python 3 (ipykernel)",
   "language": "python",
   "name": "python3"
  },
  "language_info": {
   "codemirror_mode": {
    "name": "ipython",
    "version": 3
   },
   "file_extension": ".py",
   "mimetype": "text/x-python",
   "name": "python",
   "nbconvert_exporter": "python",
   "pygments_lexer": "ipython3",
   "version": "3.8.11"
  }
 },
 "nbformat": 4,
 "nbformat_minor": 5
}
