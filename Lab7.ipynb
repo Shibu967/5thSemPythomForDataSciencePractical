{
 "cells": [
  {
   "cell_type": "markdown",
   "id": "5d539b8c",
   "metadata": {},
   "source": [
    "### Shibu Kumari<br>190570107146"
   ]
  },
  {
   "cell_type": "markdown",
   "id": "0781693d",
   "metadata": {},
   "source": [
    "# Lab 7"
   ]
  },
  {
   "cell_type": "markdown",
   "id": "f158bd9f",
   "metadata": {},
   "source": [
    "# 1-Read the content from csv file and display row by row"
   ]
  },
  {
   "cell_type": "code",
   "execution_count": null,
   "id": "8d2455d0",
   "metadata": {},
   "outputs": [],
   "source": [
    "step1: import csv\n",
    "step2: open the csv file and after that use the method reader to read the csv file\n",
    "step3: than print whole csv file row by row using for loop "
   ]
  },
  {
   "cell_type": "code",
   "execution_count": 13,
   "id": "e97f77b4",
   "metadata": {
    "scrolled": true
   },
   "outputs": [
    {
     "name": "stdout",
     "output_type": "stream",
     "text": [
      "['enrollment\\tsub1\\tsub2\\tsub3\\tP/F']\n",
      "['1\\t25\\t13\\t16\\tP']\n",
      "['2\\t20\\t18\\t19\\tP']\n",
      "['3\\t14\\t24\\t26\\tP']\n",
      "['4\\t19\\t29\\t13\\tP']\n",
      "['5\\t21\\t14\\t22\\tP']\n"
     ]
    }
   ],
   "source": [
    "import csv\n",
    "with open('E:\\python.csv','rt')as f:\n",
    "  data = csv.reader(f)\n",
    "  for row in data:\n",
    "        print(row)"
   ]
  },
  {
   "cell_type": "markdown",
   "id": "e0ee179f",
   "metadata": {},
   "source": [
    "# 2-Read the content from csv file and display cell by cell"
   ]
  },
  {
   "cell_type": "code",
   "execution_count": null,
   "id": "1d3b24c1",
   "metadata": {},
   "outputs": [],
   "source": [
    "step1: import csv\n",
    "step2: open the csv file and after that use the method reader to read the csv file\n",
    "step3: than print whole csv file cell by cell using for loop "
   ]
  },
  {
   "cell_type": "code",
   "execution_count": 14,
   "id": "48fc0b3b",
   "metadata": {},
   "outputs": [
    {
     "name": "stdout",
     "output_type": "stream",
     "text": [
      "enrollment\tsub1\tsub2\tsub3\tP/F\n",
      "1\t25\t13\t16\tP\n",
      "2\t20\t18\t19\tP\n",
      "3\t14\t24\t26\tP\n",
      "4\t19\t29\t13\tP\n",
      "5\t21\t14\t22\tP\n"
     ]
    }
   ],
   "source": [
    "import csv\n",
    "with open('E:\\python.csv','rt') as f:\n",
    "    data = csv.reader(f)\n",
    "    for row in data:\n",
    "        for i in row:\n",
    "            print(i)"
   ]
  },
  {
   "cell_type": "markdown",
   "id": "2b3f1f1d",
   "metadata": {},
   "source": [
    "# 3-Read the content from csv file and count the length of word then find small word and bigger word"
   ]
  },
  {
   "cell_type": "code",
   "execution_count": null,
   "id": "29442a80",
   "metadata": {},
   "outputs": [],
   "source": [
    "step1: import csv\n",
    "step2: open the csv file and after that use the method reader to read the csv file\n",
    "step3: create an two array in which we store the coloumns \n",
    "step4: use the max() and min() function to find the minimum and maximum word from the csv and print that word"
   ]
  },
  {
   "cell_type": "code",
   "execution_count": 15,
   "id": "73f74b18",
   "metadata": {},
   "outputs": [
    {
     "ename": "IndexError",
     "evalue": "list index out of range",
     "output_type": "error",
     "traceback": [
      "\u001b[1;31m---------------------------------------------------------------------------\u001b[0m",
      "\u001b[1;31mIndexError\u001b[0m                                Traceback (most recent call last)",
      "\u001b[1;32m<ipython-input-15-a6005a478c9b>\u001b[0m in \u001b[0;36m<module>\u001b[1;34m\u001b[0m\n\u001b[0;32m      5\u001b[0m     \u001b[0mminval\u001b[0m\u001b[1;33m,\u001b[0m \u001b[0mmaxval\u001b[0m \u001b[1;33m=\u001b[0m \u001b[1;33m[\u001b[0m\u001b[1;33m]\u001b[0m\u001b[1;33m,\u001b[0m\u001b[1;33m[\u001b[0m\u001b[1;33m]\u001b[0m\u001b[1;33m\u001b[0m\u001b[1;33m\u001b[0m\u001b[0m\n\u001b[0;32m      6\u001b[0m     \u001b[1;32mfor\u001b[0m \u001b[0mi\u001b[0m \u001b[1;32min\u001b[0m \u001b[0mdata\u001b[0m\u001b[1;33m:\u001b[0m\u001b[1;33m\u001b[0m\u001b[1;33m\u001b[0m\u001b[0m\n\u001b[1;32m----> 7\u001b[1;33m         \u001b[0mminval\u001b[0m\u001b[1;33m.\u001b[0m\u001b[0mappend\u001b[0m\u001b[1;33m(\u001b[0m\u001b[0mi\u001b[0m\u001b[1;33m[\u001b[0m\u001b[1;36m1\u001b[0m\u001b[1;33m]\u001b[0m\u001b[1;33m)\u001b[0m\u001b[1;33m\u001b[0m\u001b[1;33m\u001b[0m\u001b[0m\n\u001b[0m\u001b[0;32m      8\u001b[0m         \u001b[0mmaxval\u001b[0m\u001b[1;33m.\u001b[0m\u001b[0mappend\u001b[0m\u001b[1;33m(\u001b[0m\u001b[0mi\u001b[0m\u001b[1;33m[\u001b[0m\u001b[1;36m2\u001b[0m\u001b[1;33m]\u001b[0m\u001b[1;33m)\u001b[0m\u001b[1;33m\u001b[0m\u001b[1;33m\u001b[0m\u001b[0m\n\u001b[0;32m      9\u001b[0m \u001b[1;33m\u001b[0m\u001b[0m\n",
      "\u001b[1;31mIndexError\u001b[0m: list index out of range"
     ]
    }
   ],
   "source": [
    "import csv\n",
    "with open('E:\\python.csv','rt') as f:\n",
    "    data = csv.reader(f)\n",
    "    \n",
    "    minval, maxval = [],[]\n",
    "    for i in data:\n",
    "        minval.append(i[1])\n",
    "        maxval.append(i[2])\n",
    "        \n",
    "    print(max(maxval))\n",
    "    print(min(minval))\n"
   ]
  },
  {
   "cell_type": "markdown",
   "id": "418b3af8",
   "metadata": {},
   "source": [
    "# 4-Write a Python program to read a given CSV file as a list"
   ]
  },
  {
   "cell_type": "code",
   "execution_count": null,
   "id": "ca836df5",
   "metadata": {},
   "outputs": [],
   "source": [
    "step1: import csv\n",
    "step2: open the csv file and after that use the method reader to read the csv file\n",
    "step3: than create an object of list and convert csv file in list and print that list object "
   ]
  },
  {
   "cell_type": "code",
   "execution_count": 16,
   "id": "84d17d97",
   "metadata": {},
   "outputs": [
    {
     "name": "stdout",
     "output_type": "stream",
     "text": [
      "CSV file as a list:\n",
      "\n",
      "[['enrollment\\tsub1\\tsub2\\tsub3\\tP/F'], ['1\\t25\\t13\\t16\\tP'], ['2\\t20\\t18\\t19\\tP'], ['3\\t14\\t24\\t26\\tP'], ['4\\t19\\t29\\t13\\tP'], ['5\\t21\\t14\\t22\\tP']]\n"
     ]
    }
   ],
   "source": [
    "import csv\n",
    "with open('E:\\python.csv', newline='') as f:\n",
    "   reader = csv.reader(f)\n",
    "   data_list = list(reader)\n",
    "print(\"CSV file as a list:\\n\")\n",
    "print(data_list)"
   ]
  },
  {
   "cell_type": "markdown",
   "id": "4fd139d3",
   "metadata": {},
   "source": [
    "# 5-Write a Python program to read a given CSV file as a dictionary"
   ]
  },
  {
   "cell_type": "code",
   "execution_count": null,
   "id": "73b73e7c",
   "metadata": {},
   "outputs": [],
   "source": [
    "step1: import csv\n",
    "step2: open the csv file and after that use the method reader to read the csv file\n",
    "step3: than create an object of dictionary and convert csv file in dictionary and print that dictionary object "
   ]
  },
  {
   "cell_type": "code",
   "execution_count": 17,
   "id": "5bbf70d8",
   "metadata": {},
   "outputs": [
    {
     "name": "stdout",
     "output_type": "stream",
     "text": [
      "CSV file as a dictionary:\n",
      "\n",
      "{'enrollment\\tsub1\\tsub2\\tsub3\\tP/F': '1\\t25\\t13\\t16\\tP'}\n",
      "{'enrollment\\tsub1\\tsub2\\tsub3\\tP/F': '2\\t20\\t18\\t19\\tP'}\n",
      "{'enrollment\\tsub1\\tsub2\\tsub3\\tP/F': '3\\t14\\t24\\t26\\tP'}\n",
      "{'enrollment\\tsub1\\tsub2\\tsub3\\tP/F': '4\\t19\\t29\\t13\\tP'}\n",
      "{'enrollment\\tsub1\\tsub2\\tsub3\\tP/F': '5\\t21\\t14\\t22\\tP'}\n"
     ]
    }
   ],
   "source": [
    "import csv\n",
    "data = csv.DictReader(open(\"E:\\python.csv\"))\n",
    "print(\"CSV file as a dictionary:\\n\")\n",
    "for row in data:\n",
    "   print(row)"
   ]
  },
  {
   "cell_type": "markdown",
   "id": "f4e29f81",
   "metadata": {},
   "source": [
    "# 6-Write a Python program to write a Python list of lists to a csv file. After writing the CSV file read and display the content. "
   ]
  },
  {
   "cell_type": "code",
   "execution_count": null,
   "id": "719f0e56",
   "metadata": {},
   "outputs": [],
   "source": [
    "step1: import csv\n",
    "step2: open the csv file using open() method\n",
    "step3: create an object of writer so we can write the data in csv file and use the writerows() method to write the data in csv \n",
    "file\n",
    "step4: after that open the csv file and use the reader() function to read the csv file\n",
    "step5: print temp.csv file "
   ]
  },
  {
   "cell_type": "code",
   "execution_count": 6,
   "id": "57b0e278",
   "metadata": {},
   "outputs": [
    {
     "name": "stdout",
     "output_type": "stream",
     "text": [
      "10,a1,1\n",
      "12,a2,3\n",
      "14,a3,5\n",
      "16,a4,7\n",
      "18,a5,9\n"
     ]
    }
   ],
   "source": [
    "import csv\n",
    "data = [[10,'a1', 1], [12,'a2', 3], [14, 'a3', 5], [16, 'a4', 7], [18, 'a5', 9]]\n",
    "with open(\"temp.csv\", \"w\", newline=\"\") as f:\n",
    "   writer = csv.writer(f)\n",
    "   writer.writerows(data)\n",
    "with open('temp.csv', newline='') as csvfile:\n",
    " data = csv.reader(csvfile, delimiter=' ')\n",
    " for row in data:\n",
    "   print(', '.join(row))"
   ]
  },
  {
   "cell_type": "markdown",
   "id": "15ca9db1",
   "metadata": {},
   "source": [
    "# 7-Write a Python program to write a Python dictionary to a csv file. After writing the CSV file read the CSV file and display the content."
   ]
  },
  {
   "cell_type": "code",
   "execution_count": null,
   "id": "b50b93fe",
   "metadata": {},
   "outputs": [],
   "source": [
    "step1: import csv\n",
    "step2: create one dicionary name with dict_data\n",
    "step3: open the csv file using open() method use the Dictwriter method to write the data in csv file \n",
    "step4: use the Dictreader to read the csv file\n",
    "step5: print temp.csv file "
   ]
  },
  {
   "cell_type": "code",
   "execution_count": 7,
   "id": "8778ef24",
   "metadata": {},
   "outputs": [
    {
     "name": "stdout",
     "output_type": "stream",
     "text": [
      "CSV file as a dictionary:\n",
      "\n",
      "{'id': \"['1', '2', '3']\", 'Column1': '[33, 25, 56]', 'Column2': '[35, 30, 30]', 'Column3': '[21, 40, 55]', 'Column4': '[71, 25, 55]', 'Column5': '[10, 10, 40]'}\n"
     ]
    }
   ],
   "source": [
    "import csv\n",
    "csv_columns = ['id','Column1', 'Column2', 'Column3', 'Column4', 'Column5']\n",
    "dict_data = {'id':['1', '2', '3'],\n",
    "    'Column1':[33, 25, 56],\n",
    "    'Column2':[35, 30, 30],\n",
    "    'Column3':[21, 40, 55],\n",
    "    'Column4':[71, 25, 55],\n",
    "    'Column5':[10, 10, 40], }\n",
    "csv_file = \"temp.csv\"\n",
    "   \n",
    "with open(csv_file, 'w') as csvfile:\n",
    "    writer = csv.DictWriter(csvfile, fieldnames=csv_columns)\n",
    "    writer.writeheader()\n",
    "    for data in dict_data:\n",
    "        writer.writerow(dict_data)\n",
    "    \n",
    "data = csv.DictReader(open(csv_file))\n",
    "print(\"CSV file as a dictionary:\\n\")\n",
    "print(row)"
   ]
  },
  {
   "cell_type": "code",
   "execution_count": null,
   "id": "b6b2bcfd",
   "metadata": {},
   "outputs": [],
   "source": []
  }
 ],
 "metadata": {
  "kernelspec": {
   "display_name": "Python 3 (ipykernel)",
   "language": "python",
   "name": "python3"
  },
  "language_info": {
   "codemirror_mode": {
    "name": "ipython",
    "version": 3
   },
   "file_extension": ".py",
   "mimetype": "text/x-python",
   "name": "python",
   "nbconvert_exporter": "python",
   "pygments_lexer": "ipython3",
   "version": "3.8.11"
  }
 },
 "nbformat": 4,
 "nbformat_minor": 5
}
