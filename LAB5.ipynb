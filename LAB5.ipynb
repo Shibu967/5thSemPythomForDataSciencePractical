{
 "cells": [
  {
   "cell_type": "markdown",
   "id": "d0a1dd19",
   "metadata": {},
   "source": [
    "# LAB5"
   ]
  },
  {
   "cell_type": "markdown",
   "id": "807c8d84",
   "metadata": {},
   "source": [
    "### Shibu Kumari<br>190570107146"
   ]
  },
  {
   "cell_type": "markdown",
   "id": "8465d25c",
   "metadata": {},
   "source": [
    "# 1: Write a function in pythone to read the content from the text file \"peom.txt\" line by line and display the same on screen"
   ]
  },
  {
   "cell_type": "code",
   "execution_count": null,
   "id": "8e6db559",
   "metadata": {},
   "outputs": [],
   "source": [
    "step 1: Create the rea_poem() function to read the file\n",
    "step 2: use the open funtion to oepn the file\n",
    "step 3: use read inbuilt funtion to read the content of the file\n",
    "step 4: print the content of file on screen"
   ]
  },
  {
   "cell_type": "code",
   "execution_count": 11,
   "id": "68107fe5",
   "metadata": {},
   "outputs": [
    {
     "name": "stdout",
     "output_type": "stream",
     "text": [
      "Content of the file:\n",
      "This is file created by me.\n",
      "The name of this File is poem.\n",
      "We need to read content of this file by calling a fucntion.\n",
      "We need to count line which is not starting from 'T'\n",
      "We need to count total words and words are ending with 'e'\n",
      "Also need to count character which are in uppercase\n"
     ]
    }
   ],
   "source": [
    "def read_poem():\n",
    "    f_poem= open(\"poem.txt\",\"r\")\n",
    "    print(f_poem.read())\n",
    "        \n",
    "print(\"Content of the file:\")\n",
    "read_poem()"
   ]
  },
  {
   "cell_type": "markdown",
   "id": "dd7ac57c",
   "metadata": {},
   "source": [
    "# 2. Write a function in python to count the number of lines from a text file \"story.txt\" which is not starting with an alphabet \"T\". "
   ]
  },
  {
   "cell_type": "code",
   "execution_count": null,
   "id": "f6b2a24d",
   "metadata": {},
   "outputs": [],
   "source": [
    "step 1: Create the count_line() function which return the no of line in file\n",
    "step 2: use the open funtion to oepn the file\n",
    "step 3: use the for loop to check the condition which is given in defination\n",
    "step 4: use read inbuilt funtion to read the content of the file\n",
    "step 5: print the number of line which is not strat from the T alphabet"
   ]
  },
  {
   "cell_type": "code",
   "execution_count": 12,
   "id": "6fa9e24d",
   "metadata": {},
   "outputs": [
    {
     "name": "stdout",
     "output_type": "stream",
     "text": [
      "Lines not starting with 'T'= 4\n"
     ]
    }
   ],
   "source": [
    "def count_line():\n",
    "    line_count=open(\"story.txt\",\"r\")\n",
    "    count=0\n",
    "    for each_line in line_count:\n",
    "        if each_line[0] not in 'T':\n",
    "            count+= 1\n",
    "    line_count.close()\n",
    "    print(\"Lines not starting with 'T'=\",count)\n",
    "count_line()"
   ]
  },
  {
   "cell_type": "markdown",
   "id": "cb66e800",
   "metadata": {},
   "source": [
    "# 3: Write the function in python to count the total number or words in text file and dispaly on screen."
   ]
  },
  {
   "cell_type": "code",
   "execution_count": null,
   "id": "5ae44054",
   "metadata": {},
   "outputs": [],
   "source": [
    "step 1: Create the count_words() function to count the words from the file\n",
    "step 2: use the open funtion to oepn the file\n",
    "step 3: use read inbuilt funtion to read the content of the file\n",
    "step 4: use built-in funtion split to count the number of words\n",
    "step 5: print the number of words contain by file"
   ]
  },
  {
   "cell_type": "code",
   "execution_count": 13,
   "id": "3149b09e",
   "metadata": {},
   "outputs": [
    {
     "name": "stdout",
     "output_type": "stream",
     "text": [
      "number of words content by the text file: 57\n"
     ]
    }
   ],
   "source": [
    "def count_words():\n",
    "    wc= open(\"poem.txt\",\"r\")\n",
    "    data= wc.read()\n",
    "    word=data.split()\n",
    "    \n",
    "    print(\"number of words content by the text file:\",len(word))\n",
    "    \n",
    "count_words()"
   ]
  },
  {
   "cell_type": "markdown",
   "id": "bffc4704",
   "metadata": {},
   "source": [
    "# 4: Write a function in Python to read lines from a text file \"notes.txt\". Your function should find and display the occurrence of the word \"the\"."
   ]
  },
  {
   "cell_type": "code",
   "execution_count": null,
   "id": "18db6217",
   "metadata": {},
   "outputs": [],
   "source": [
    "step 1: create a function for find and display the occurrence of the word \"the\"\n",
    "step 2: open note.txt file and read file using inbuilt read function\n",
    "step 3: after that using split method split the line\n",
    "step 4: use for loop to count the number of occurrence of the word \"the\"\n",
    "step 5: Print the total count."
   ]
  },
  {
   "cell_type": "code",
   "execution_count": 14,
   "id": "0fd22f47",
   "metadata": {},
   "outputs": [
    {
     "name": "stdout",
     "output_type": "stream",
     "text": [
      "Total number of occurrence of the: 2\n"
     ]
    }
   ],
   "source": [
    "def count_words():\n",
    "    file = open(\"notes.txt\",\"r\")\n",
    "    count = 0\n",
    "    data = file.read()\n",
    "    words = data.split()\n",
    "    for word in words:\n",
    "        if word ==\"the\" or word ==\"The\":\n",
    "            count += 1\n",
    "    print(\"Total number of occurrence of the:\",count)\n",
    "    file.close()\n",
    "\n",
    "count_words()"
   ]
  },
  {
   "cell_type": "markdown",
   "id": "71f5d56f",
   "metadata": {},
   "source": [
    "# 5. Write a function display_words() in python to read lines from a text file \"story.txt\", and display those words,which are less than 4 characters.  "
   ]
  },
  {
   "cell_type": "code",
   "execution_count": null,
   "id": "d4603428",
   "metadata": {},
   "outputs": [],
   "source": [
    "step 1: create a function for find and display the occurrence of the word which are less than 4 characters\n",
    "step 2: open poem.txt file and read file using inbuilt read function\n",
    "step 3: after that using split method split the line\n",
    "step 4: use for loop to count the number of words which are less than 4 chracters\n",
    "step 5: Print all the words which are less than 4 characters "
   ]
  },
  {
   "cell_type": "code",
   "execution_count": 15,
   "id": "62311f81",
   "metadata": {},
   "outputs": [
    {
     "name": "stdout",
     "output_type": "stream",
     "text": [
      "is by me. The of is We to of by a We to is not 'T' We to and are 'e' to are in "
     ]
    }
   ],
   "source": [
    "def display_words():\n",
    "    file = open(\"story.txt\",\"r\")\n",
    "    data = file.read()\n",
    "    words = data.split()\n",
    "    for word in words:\n",
    "        if len(word) < 4:\n",
    "            print(word, end=\" \")\n",
    "    file.close()\n",
    "\n",
    "display_words()\n"
   ]
  },
  {
   "cell_type": "markdown",
   "id": "b80b9231",
   "metadata": {},
   "source": [
    "# 6. Write a function in Python to count the words \"this\" and \"these\" present in a text file \"article.txt\". [Note that the words \"this\" and \"these\" are complete words]  "
   ]
  },
  {
   "cell_type": "code",
   "execution_count": null,
   "id": "e044299c",
   "metadata": {},
   "outputs": [],
   "source": [
    "step 1: create a function for find and display the occurrence of the word \"these\" and \"this\"\n",
    "step 2: open note.txt file and read file using inbuilt read function\n",
    "step 3: after that using split method split the line\n",
    "step 4: use for loop to count the number of occurrence of the word \"these\" and \"this\"\n",
    "step 5: Print total number occurrence of word \"this\" and \"these\""
   ]
  },
  {
   "cell_type": "code",
   "execution_count": 12,
   "id": "135eabe6",
   "metadata": {},
   "outputs": [
    {
     "name": "stdout",
     "output_type": "stream",
     "text": [
      "2\n"
     ]
    }
   ],
   "source": [
    "def count_words():\n",
    "    file = open(\"article.txt\",\"r\",encoding='utf-8')\n",
    "    count = 0\n",
    "    data = file.read()\n",
    "    words = data.split()\n",
    "    for word in words:\n",
    "        if word == 'this' or word =='these':\n",
    "            count+=1\n",
    "    print(count)\n",
    "    file.close()\n",
    "\n",
    "count_words()"
   ]
  },
  {
   "cell_type": "markdown",
   "id": "20c7ca8b",
   "metadata": {},
   "source": [
    "# 7. Write a function in Python to count words in a text file those are ending with alphabet \"e\".  "
   ]
  },
  {
   "cell_type": "code",
   "execution_count": null,
   "id": "5e78c4bf",
   "metadata": {},
   "outputs": [],
   "source": [
    "step 1: create a function to find the words which are end with 'e'\n",
    "step 2: then use the open and read built in function to open and read the file\n",
    "step 3: use the split method to split the words in file\n",
    "step 4: use the for loop to find the number of words which are ends with 'e'\n",
    "stpe 5: print the total number which are ends with 'e'"
   ]
  },
  {
   "cell_type": "code",
   "execution_count": 16,
   "id": "019eb903",
   "metadata": {},
   "outputs": [
    {
     "name": "stdout",
     "output_type": "stream",
     "text": [
      "words which are ending with 'e'= 12\n"
     ]
    }
   ],
   "source": [
    "def count_words_e():\n",
    "    line_count=open(\"poem.txt\",\"r\")\n",
    "    count=0\n",
    "    data = line_count.read()\n",
    "    words = data.split()\n",
    "    for each_line in words:\n",
    "        if each_line[(len(each_line)-1)] == 'e':\n",
    "            count+= 1\n",
    "    line_count.close()\n",
    "    print(\"words which are ending with 'e'=\",count)\n",
    "count_words_e()"
   ]
  },
  {
   "cell_type": "markdown",
   "id": "60484d24",
   "metadata": {},
   "source": [
    "# 8. Write a function in Python to count uppercase character in a text file.  "
   ]
  },
  {
   "cell_type": "code",
   "execution_count": null,
   "id": "1452d4df",
   "metadata": {},
   "outputs": [],
   "source": [
    "step 1: create a function to find the uppercase character in text file\n",
    "step 2: use the open and read in built function to open file and read that file\n",
    "step 3: then use the isupper funtion to check the character is upper or not\n",
    "step 4: print the total uppercase words"
   ]
  },
  {
   "cell_type": "code",
   "execution_count": 17,
   "id": "c9bd4072",
   "metadata": {},
   "outputs": [
    {
     "name": "stdout",
     "output_type": "stream",
     "text": [
      "total uppercase words: 8\n"
     ]
    }
   ],
   "source": [
    "def find_uppercase():\n",
    "    latter_count=open(\"poem.txt\",\"r\",encoding='utf-8')\n",
    "    count=0\n",
    "    data=latter_count.read()\n",
    "    for latter in data:\n",
    "        if latter.isupper():\n",
    "            count+=1\n",
    "    \n",
    "    print(\"total uppercase words:\",count)\n",
    "    latter_count.close()\n",
    "find_uppercase()"
   ]
  },
  {
   "cell_type": "markdown",
   "id": "4118738f",
   "metadata": {},
   "source": [
    "# 9. A text file named \"matter.txt\" contains some text, which needs to be displayed such that every next character is separated by a symbol \"#\". Write a function definition for hash_display() in Python that would display the entire content of the file matter.txt in the desired format."
   ]
  },
  {
   "cell_type": "code",
   "execution_count": null,
   "id": "ba95a54a",
   "metadata": {},
   "outputs": [],
   "source": [
    "step 1: create a hash_diplay function\n",
    "step 2: using in built function read and open '#' symbole at last of all the character\n",
    "step 3: then print all the charachter "
   ]
  },
  {
   "cell_type": "code",
   "execution_count": 19,
   "id": "0a4293a2",
   "metadata": {},
   "outputs": [
    {
     "name": "stdout",
     "output_type": "stream",
     "text": [
      "T#h#i#s# #i#s# #f#i#l#e# #c#r#e#a#t#e#d# #b#y# #m#e#.#\n",
      "#T#h#e# #n#a#m#e# #o#f# #t#h#i#s# #F#i#l#e# #i#s# #p#o#e#m#.#\n",
      "#W#e# #n#e#e#d# #t#o# #r#e#a#d# #c#o#n#t#e#n#t# #o#f# #t#h#i#s# #f#i#l#e# #b#y# #c#a#l#l#i#n#g# #a# #f#u#c#n#t#i#o#n#.#\n",
      "#W#e# #n#e#e#d# #t#o# #c#o#u#n#t# #l#i#n#e# #w#h#i#c#h# #i#s# #n#o#t# #s#t#a#r#t#i#n#g# #f#r#o#m# #'#T#'#\n",
      "#W#e# #n#e#e#d# #t#o# #c#o#u#n#t# #t#o#t#a#l# #w#o#r#d#s# #a#n#d# #w#o#r#d#s# #a#r#e# #e#n#d#i#n#g# #w#i#t#h# #'#e#'#\n",
      "#A#l#s#o# #n#e#e#d# #t#o# #c#o#u#n#t# #c#h#a#r#a#c#t#e#r# #w#h#i#c#h# #a#r#e# #i#n# #u#p#p#e#r#c#a#s#e#"
     ]
    }
   ],
   "source": [
    "def hash_display():\n",
    "    file = open(\"matters.txt\",\"r\")\n",
    "    data = file.read()\n",
    "    for letter in data:\n",
    "        print(letter, end=\"#\")\n",
    "\n",
    "    file.close()\n",
    "hash_display()\n"
   ]
  },
  {
   "cell_type": "code",
   "execution_count": null,
   "id": "5ded6f59",
   "metadata": {},
   "outputs": [],
   "source": []
  }
 ],
 "metadata": {
  "kernelspec": {
   "display_name": "Python 3 (ipykernel)",
   "language": "python",
   "name": "python3"
  },
  "language_info": {
   "codemirror_mode": {
    "name": "ipython",
    "version": 3
   },
   "file_extension": ".py",
   "mimetype": "text/x-python",
   "name": "python",
   "nbconvert_exporter": "python",
   "pygments_lexer": "ipython3",
   "version": "3.8.11"
  }
 },
 "nbformat": 4,
 "nbformat_minor": 5
}
