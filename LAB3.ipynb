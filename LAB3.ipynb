{
 "cells": [
  {
   "cell_type": "markdown",
   "id": "653ea7ff",
   "metadata": {},
   "source": [
    "## LAB 3"
   ]
  },
  {
   "cell_type": "markdown",
   "id": "4fc31e28",
   "metadata": {},
   "source": [
    "### Shibu Kumari<br>190570107146"
   ]
  },
  {
   "cell_type": "markdown",
   "id": "5c332415",
   "metadata": {},
   "source": [
    "# Practical :1 Finding the sum and average of given numbers using lists.\n",
    "    `\n",
    "setp 1:  Create a list of numbers       \n",
    "step 2: Then calculate sum and average of the list using builtin functions"
   ]
  },
  {
   "cell_type": "code",
   "execution_count": 2,
   "id": "08b0bc44",
   "metadata": {},
   "outputs": [
    {
     "name": "stdout",
     "output_type": "stream",
     "text": [
      "Sum of given list= 155\n",
      "Aeverage of given list= 31.0\n"
     ]
    }
   ],
   "source": [
    "num_list = [10, 20, 30, 45, 50]\n",
    "result= sum(num_list)\n",
    "avg= result/len(num_list)\n",
    "print(\"Sum of given list=\",result)\n",
    "print(\"Aeverage of given list=\",avg)"
   ]
  },
  {
   "cell_type": "markdown",
   "id": "41e9ef91",
   "metadata": {},
   "source": [
    "# Program :2 Display elements of list in reverse order.\n",
    "\n",
    "step 1: Create a list \n",
    "step 2: Dsiplay the list in reverse order using builtin function reverse or reversed."
   ]
  },
  {
   "cell_type": "code",
   "execution_count": 3,
   "id": "b8e4eee0",
   "metadata": {},
   "outputs": [
    {
     "data": {
      "text/plain": [
       "['.net', 'C', 'C++', 'python', 'java']"
      ]
     },
     "execution_count": 3,
     "metadata": {},
     "output_type": "execute_result"
    }
   ],
   "source": [
    "list = [\"java\", \"python\", \"C++\", \"C\", \".net\"]\n",
    "list.reverse()\n",
    "list"
   ]
  },
  {
   "cell_type": "markdown",
   "id": "2b40ea01",
   "metadata": {},
   "source": [
    "# Program :3 Find the minimum and maximum number from the list.\n",
    "\n",
    "step 1: Create a list\n",
    "step 2: use the max builtin function for find the maximum number in list\n",
    "step 3: use the min builtin function for find the minimum number in list\n",
    "step 4: Print the maximum and minimum value"
   ]
  },
  {
   "cell_type": "code",
   "execution_count": 4,
   "id": "c67790b5",
   "metadata": {},
   "outputs": [
    {
     "name": "stdout",
     "output_type": "stream",
     "text": [
      "maximum value from the list= 2000\n",
      "minimum value from the list= 0\n"
     ]
    }
   ],
   "source": [
    "num_list= [1,4,7,2,555,7,0,444,4,2000]\n",
    "max_val= max(num_list)\n",
    "min_val= min(num_list)\n",
    "print(\"maximum value from the list=\", max_val)\n",
    "print(\"minimum value from the list=\", min_val)"
   ]
  },
  {
   "cell_type": "markdown",
   "id": "148f5ed6",
   "metadata": {},
   "source": [
    "# Program :4 Implement python script to perform various operations on string using sting libraries.\n",
    "\n",
    "step 1: get the one string value\n",
    "step 2: perform the various string operations"
   ]
  },
  {
   "cell_type": "code",
   "execution_count": 25,
   "id": "b70816a2",
   "metadata": {},
   "outputs": [
    {
     "name": "stdout",
     "output_type": "stream",
     "text": [
      "lower: hellow world\n",
      "Upper:   VARIOUS STRING METHODS    \n",
      "islower: False\n",
      "isUpper: False\n",
      "Replace: HELLOW WORLD\n",
      "rfind: 10\n",
      "Index: 17\n",
      "strip: Various string methods\n",
      "rstrip:   Various string methods\n",
      "lstrip: Various string methods    \n",
      "is numeric: False\n",
      "Concatination: HELLOW world  Various string methods    \n"
     ]
    }
   ],
   "source": [
    "str1= \"HELLO world\"\n",
    "str2=\"  Various string methods    \"\n",
    "print(\"lower:\",str1.lower())\n",
    "print(\"Upper:\",str2.upper())\n",
    "print(\"islower:\",str1.islower())\n",
    "print(\"isUpper:\",str2.isupper())\n",
    "print(\"Replace:\", str1.replace('world','WORLD'))\n",
    "print(\"rfind:\",str2.rfind('st'))\n",
    "print(\"Index:\",str2.index('m'))\n",
    "print(\"strip:\",str2.strip())\n",
    "print(\"rstrip:\",str2.rstrip())\n",
    "print(\"lstrip:\",str2.lstrip())\n",
    "print(\"is numeric:\",str2.isnumeric())\n",
    "print(\"Concatination:\",str1 + str2)"
   ]
  },
  {
   "cell_type": "markdown",
   "id": "d0553db1",
   "metadata": {},
   "source": [
    "# Program :5 Implement python script to check given string is palindrome or not.\n",
    " \n",
    "step 1: Get the string from the user\n",
    "step 2: after that compare the fisrt and last character of the string using if else\n",
    "step 3: print string is palindrome or not "
   ]
  },
  {
   "cell_type": "code",
   "execution_count": 26,
   "id": "2cec0a12",
   "metadata": {},
   "outputs": [
    {
     "name": "stdout",
     "output_type": "stream",
     "text": [
      "Please enter your own String : dad\n",
      "This is a Palindrome String\n"
     ]
    }
   ],
   "source": [
    "string = input(\"Please enter your own String : \")\n",
    "\n",
    "if(string == string[:: - 1]):\n",
    "   print(\"This is a Palindrome String\")\n",
    "else:\n",
    "   print(\"This is Not a Palindrome String\")"
   ]
  },
  {
   "cell_type": "markdown",
   "id": "ee5a9620",
   "metadata": {},
   "source": [
    "# Program :6 Implement python script to accept line of text and find the number of character, number of vowels and number of blank spaces in it.\n",
    "\n",
    "step 1: First create a function check_vow and also create function check_space\n",
    "step 2: Find the number of vowels and white sapce from the string\n",
    "step 3: get the string from the user\n",
    "step 4: function return the number of vowels from the given string\n",
    "step 5: Print the number of character using for loop."
   ]
  },
  {
   "cell_type": "code",
   "execution_count": 57,
   "id": "442937f1",
   "metadata": {},
   "outputs": [
    {
     "name": "stdout",
     "output_type": "stream",
     "text": [
      "Please Enter your Own String : This is an example\n",
      "Total Number of Characters in this String =  18\n",
      "number of spaces  3\n",
      "6\n",
      "['i', 'i', 'a', 'e', 'a', 'e']\n"
     ]
    }
   ],
   "source": [
    "def Check_Vow(string, vowels):\n",
    "    final = [each for each in string if each in vowels]\n",
    "    print(len(final))\n",
    "    print(final)  \n",
    "\n",
    "def check_space(string):\n",
    "\n",
    "    count = 0\n",
    "     \n",
    "    for i in range(0, len(string)):\n",
    "        if string[i] == \" \":\n",
    "            count += 1\n",
    "         \n",
    "    return count\n",
    "\n",
    "total = 0\n",
    "for i in string:\n",
    "    total = total + 1\n",
    "       \n",
    "string = input(\"Please Enter your Own String : \")\n",
    "print(\"Total Number of Characters in this String = \", total)\n",
    "print(\"number of spaces \",check_space(string))\n",
    "vowels = \"AaEeIiOoUu\"\n",
    "Check_Vow(string, vowels);"
   ]
  }
 ],
 "metadata": {
  "kernelspec": {
   "display_name": "Python 3 (ipykernel)",
   "language": "python",
   "name": "python3"
  },
  "language_info": {
   "codemirror_mode": {
    "name": "ipython",
    "version": 3
   },
   "file_extension": ".py",
   "mimetype": "text/x-python",
   "name": "python",
   "nbconvert_exporter": "python",
   "pygments_lexer": "ipython3",
   "version": "3.8.11"
  }
 },
 "nbformat": 4,
 "nbformat_minor": 5
}
