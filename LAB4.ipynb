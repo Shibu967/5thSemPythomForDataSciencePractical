{
 "cells": [
  {
   "cell_type": "markdown",
   "id": "47b15326",
   "metadata": {},
   "source": [
    "# LAB-4 "
   ]
  },
  {
   "cell_type": "markdown",
   "id": "eb5bb9cb",
   "metadata": {},
   "source": [
    "### Shibu Kumari<br>190570107146"
   ]
  },
  {
   "cell_type": "markdown",
   "id": "be414e2b",
   "metadata": {},
   "source": [
    "## Write a function called ninelines that uses a function threelines to print nine    blank lines. Print twenty seven new lines using this.\n"
   ]
  },
  {
   "cell_type": "markdown",
   "id": "571d300f",
   "metadata": {},
   "source": [
    "Step 1: Create function threeLines().\n",
    "Step 2: Inside threeLines() add for loop which run three times. \n",
    "Step 3: Inside for loop print empty line.\n",
    "Step 4: Create function nineLines().\n",
    "Step 5: Inside nineLines() add for loop which run three times.\n",
    "Step 6: Inside for loop call threeLines() function.\n",
    "Step 7: outside functions create for loop which run three time.\n",
    "Step 8: Inside for loop call nineLines() function."
   ]
  },
  {
   "cell_type": "code",
   "execution_count": null,
   "id": "4d3b80b8",
   "metadata": {},
   "outputs": [],
   "source": [
    "def threeLines():  \n",
    "    for i in range(3):\n",
    "        print('\\n')\n",
    "\n",
    "def nineLines():\n",
    "    for i in range(3):\n",
    "        threeLines()\n",
    "\n",
    "for i in range(3):\n",
    "    nineLines()"
   ]
  },
  {
   "cell_type": "markdown",
   "id": "5eb4dfa6",
   "metadata": {},
   "source": [
    "# 2)Write a function to find the HCF of some given numbers."
   ]
  },
  {
   "cell_type": "markdown",
   "id": "94c0d9e6",
   "metadata": {},
   "source": [
    "Step 1: Create function find_hcf(x,y).\n",
    "Step 2: Inside function \n",
    "        if x > y then \n",
    "            store value of y in temp variable\n",
    "        else \n",
    "            store value of x in temp variable\n",
    "Step 3: After if..else add for loop which start from 1(i) and run untill temp + 1\n",
    "Step 4: Inside for loop \n",
    "        create if x%i=0 and y%i=0 then \n",
    "            store value of i in hcf variable\n",
    "step 5: return hcf\n",
    "step 6: Get two numbers\n",
    "Step 7: call find_hcf() function."
   ]
  },
  {
   "cell_type": "code",
   "execution_count": 1,
   "id": "6425ae31",
   "metadata": {},
   "outputs": [
    {
     "name": "stdout",
     "output_type": "stream",
     "text": [
      "Enter first Number: 15\n",
      "Enter second number: 20\n",
      "The HCF of 15  &  20  =  5\n"
     ]
    }
   ],
   "source": [
    "def find_hcf(x,y):\n",
    "    if x > y:\n",
    "        temp = y\n",
    "    else:\n",
    "        temp = x\n",
    "    for i in range(1, temp + 1):\n",
    "        if( (x%i==0) and (y%i==0) ):\n",
    "            hcf = i\n",
    "    return hcf\n",
    "\n",
    "num1=int(input(\"Enter first Number: \"))\n",
    "num2=int(input(\"Enter second number: \"))\n",
    "print(\"The HCF of\", num1, \" & \", num2,\" = \", find_hcf(num1,num2))"
   ]
  },
  {
   "cell_type": "markdown",
   "id": "1a65ac3f",
   "metadata": {},
   "source": [
    "# 3)  Write a function to display the factors of a given number."
   ]
  },
  {
   "cell_type": "markdown",
   "id": "cdde346f",
   "metadata": {},
   "source": [
    "Step 1: Get number from user.\n",
    "Step 2: Create temporary variable with value 1\n",
    "Step 3: Create while loop with condition temp <= number\n",
    "Step 4: Inside while loop \n",
    "        if number % temp = 0 then\n",
    "            print(temp)\n",
    "Step 5: temp = temp + 1\n",
    "Step 6: End of loop"
   ]
  },
  {
   "cell_type": "code",
   "execution_count": 2,
   "id": "f6438dbe",
   "metadata": {},
   "outputs": [
    {
     "name": "stdout",
     "output_type": "stream",
     "text": [
      "Enter Number : 250\n",
      "Factors are :\n",
      "1\n",
      "2\n",
      "5\n",
      "10\n",
      "25\n",
      "50\n",
      "125\n",
      "250\n"
     ]
    }
   ],
   "source": [
    "num1=int(input(\"Enter Number : \"))\n",
    "print(\"Factors are :\")\n",
    "temp=1\n",
    "while temp<=num1:\n",
    "    if num1%temp==0:\n",
    "        print(temp)\n",
    "    temp=temp+1"
   ]
  },
  {
   "cell_type": "markdown",
   "id": "dded7903",
   "metadata": {},
   "source": [
    "# 4) Write a function to find the ASCII value of the character."
   ]
  },
  {
   "cell_type": "markdown",
   "id": "fc72209e",
   "metadata": {},
   "source": [
    "Step 1 : create a fuction find_ASCII(character).\n",
    "Step 2 : Inside function\n",
    "            call in-built function ord(character) and print value of it.\n",
    "Step 3 : get character from user.\n",
    "Step 4 : call find_ASCII(character)"
   ]
  },
  {
   "cell_type": "code",
   "execution_count": 22,
   "id": "59b6bd56",
   "metadata": {},
   "outputs": [
    {
     "name": "stdout",
     "output_type": "stream",
     "text": [
      "Enter any Character : a\n",
      "The ASCII value of  a  is  97\n"
     ]
    }
   ],
   "source": [
    "def find_ASCII(c):\n",
    "    print(\"The ASCII value of \",c,\" is \", ord(c))\n",
    "\n",
    "char1=input(\"Enter any Character : \")\n",
    "find_ASCII(char1)"
   ]
  },
  {
   "cell_type": "markdown",
   "id": "7f4120b1",
   "metadata": {},
   "source": [
    "# 5) Write a function to convert a decimal number to its binary, octal and hexadecimal equivalents."
   ]
  },
  {
   "cell_type": "markdown",
   "id": "0d5854b6",
   "metadata": {},
   "source": [
    "Step 1: Create function covt_bin_oct_hex(dec).\n",
    "Step 2: Inside Function\n",
    "        call and print value of in-built function bin(dec),oct(dec),hex(dec).\n",
    "Step 3: Get decimal value from user.\n",
    "Step 4: call covt_bin_oct_hex(dec)."
   ]
  },
  {
   "cell_type": "code",
   "execution_count": 26,
   "id": "a2e80833",
   "metadata": {},
   "outputs": [
    {
     "name": "stdout",
     "output_type": "stream",
     "text": [
      "Enter Decimal value : 8\n",
      "Binary of Decimal  8  is  0b1000\n",
      "Octal of Decimal  8  is  0o10\n",
      "Hexadecimal of Decimal  8  is  0x8\n"
     ]
    }
   ],
   "source": [
    "def covt_bin_oct_hex(num_dec):\n",
    "    print(\"Binary of Decimal \", num_dec , \" is \", bin(num_dec))\n",
    "    print(\"Octal of Decimal \", num_dec , \" is \", oct(num_dec))\n",
    "    print(\"Hexadecimal of Decimal \", num_dec , \" is \", hex(num_dec))\n",
    "\n",
    "num_dec=int(input(\"Enter Decimal value : \"))\n",
    "covt_bin_oct_hex(num_dec)"
   ]
  },
  {
   "cell_type": "markdown",
   "id": "95ff0c7d",
   "metadata": {},
   "source": [
    "# 6 Write a function to display Fibonacci sequence using recursion."
   ]
  },
  {
   "cell_type": "markdown",
   "id": "7b22aadb",
   "metadata": {},
   "source": [
    "Step 1: Create function rec_fibo(n) \n",
    "Step 2: Inside function \n",
    "        if n<=1 then\n",
    "                return n\n",
    "        else\n",
    "            return rec_fibo(n-1)+rec_fibo(n-2) #recursive call\n",
    "Step 3: Get a number from user.\n",
    "Step 4 : Check number is negative or positive.\n",
    "Step 5: If negative then \n",
    "            print \"Enter positive number\"\n",
    "Step 6: If number is positive then \n",
    "            create for loop run upto the number entered by user\n",
    "Step 7 : Inside loop\n",
    "            print rec_fibo(i)"
   ]
  },
  {
   "cell_type": "code",
   "execution_count": 28,
   "id": "c2b36dd6",
   "metadata": {},
   "outputs": [
    {
     "name": "stdout",
     "output_type": "stream",
     "text": [
      "Enter a number upto where you want series : 10\n",
      "Fibonacci series upto  10 :\n",
      "0\n",
      "1\n",
      "1\n",
      "2\n",
      "3\n",
      "5\n",
      "8\n",
      "13\n",
      "21\n",
      "34\n"
     ]
    }
   ],
   "source": [
    "def rec_fibo(n):\n",
    "    if n <= 1:\n",
    "        return n\n",
    "    else:\n",
    "        return(rec_fibo(n-1) + rec_fibo(n-2))\n",
    "\n",
    "numbers=int(input(\"Enter a number upto where you want series : \"))\n",
    "\n",
    "if numbers <= 0:\n",
    "    print(\"Plese enter a positive integer\")\n",
    "else:\n",
    "    print(\"Fibonacci series upto \",numbers ,\":\")\n",
    "    for i in range(numbers):\n",
    "        print(rec_fibo(i))\n"
   ]
  },
  {
   "cell_type": "markdown",
   "id": "1bea497c",
   "metadata": {},
   "source": [
    "# 7) Write a function to find the sum of several natural numbers using recursion"
   ]
  },
  {
   "cell_type": "markdown",
   "id": "a558b8d1",
   "metadata": {},
   "source": [
    "Step 1: Create a function rec_sum(num)\n",
    "Step 2: Inside fuction \n",
    "            if num <= 1 then \n",
    "                return num\n",
    "            else\n",
    "                return num+rec_sum(num-1) #recursive call\n",
    "Step 3: Get a number from user.\n",
    "Step 4: Check if number is negative then \n",
    "            print(please, Enter a positive number)\n",
    "        else \n",
    "            print(\"Sum=\",rec_sum(num))"
   ]
  },
  {
   "cell_type": "code",
   "execution_count": 3,
   "id": "c9c4136b",
   "metadata": {},
   "outputs": [
    {
     "name": "stdout",
     "output_type": "stream",
     "text": [
      "Enter a Nnumber : 20\n",
      "Sum =  210\n"
     ]
    }
   ],
   "source": [
    "def rec_sum(num):\n",
    "    if num <= 1:\n",
    "        return num\n",
    "    else:\n",
    "        return num + rec_sum(num-1)\n",
    "\n",
    "num=int(input(\"Enter a Nnumber : \"))\n",
    "if num < 0:\n",
    "    print(\"Please, Enter Positive number\")\n",
    "else:\n",
    "    print(\"Sum = \",rec_sum(num))\n"
   ]
  },
  {
   "cell_type": "markdown",
   "id": "9376c3ef",
   "metadata": {},
   "source": [
    "# 8) Python Program that demonstrates the built-in functions"
   ]
  },
  {
   "cell_type": "markdown",
   "id": "b18790b2",
   "metadata": {},
   "source": [
    "Step 1: Covert binary to decimal of 8\n",
    "Step 2: Print ASCII value of A\n",
    "Step 3: Print Absolute value of -7\n",
    "Step 4: Print character whose ASCII code is 66"
   ]
  },
  {
   "cell_type": "code",
   "execution_count": 9,
   "id": "21c2628d",
   "metadata": {},
   "outputs": [
    {
     "name": "stdout",
     "output_type": "stream",
     "text": [
      "Binary of 8 decimal number is  0b1000\n",
      "ASCII value of A is  65\n",
      "7\n",
      "66 is ASCII code of  B\n"
     ]
    }
   ],
   "source": [
    "print(\"Binary of 8 decimal number is \",bin(8))\n",
    "print(\"ASCII value of A is \", ord(\"A\"))\n",
    "print(abs(-7))\n",
    "print(\"66 is ASCII code of \", chr(66))"
   ]
  },
  {
   "cell_type": "markdown",
   "id": "4668b6a5",
   "metadata": {},
   "source": [
    "# 9)  Exercise programs on functions."
   ]
  },
  {
   "cell_type": "markdown",
   "id": "ef8d340a",
   "metadata": {},
   "source": [
    "# a) Define a function max_of_three() that takes three numbers as arguments and returns the largest of them. "
   ]
  },
  {
   "cell_type": "markdown",
   "id": "3d9e6aaf",
   "metadata": {},
   "source": [
    "Step 1: Create a funtion find_max_from_3(val1,val2,val3)\n",
    "Step 2: Inside function \n",
    "        if val1 > val2 and val1 > val3 then\n",
    "            return val1\n",
    "        elif val2 > val3\n",
    "            return val2\n",
    "        else\n",
    "            return val3\n",
    "Step 3: Get three values from user\n",
    "Step 4: print value that is returned by fucntion."
   ]
  },
  {
   "cell_type": "code",
   "execution_count": 12,
   "id": "e525e694",
   "metadata": {},
   "outputs": [
    {
     "name": "stdout",
     "output_type": "stream",
     "text": [
      "ENter your value 1:1\n",
      "ENter your value 2:2\n",
      "ENter your value 3:3\n",
      "Largest number is 3\n"
     ]
    }
   ],
   "source": [
    "def find_max_from_3(val1,val2,val3):\n",
    "    if (val1 > val2) and (val1 > val3):\n",
    "        return val1\n",
    "    elif (val2 > val3):\n",
    "        return val2\n",
    "    else:\n",
    "        return val3\n",
    "    \n",
    "val1 = int(input(\"ENter your value 1:\"))\n",
    "val2 = int(input(\"ENter your value 2:\"))\n",
    "val3 = int(input(\"ENter your value 3:\"))\n",
    "print(\"Largest number is\",find_max_from_3(val1,val2,val3))\n"
   ]
  },
  {
   "cell_type": "markdown",
   "id": "968ee0a3",
   "metadata": {},
   "source": [
    "# B) Write a program which makes use of function to display all such numbers which are divisible by 7 but are not a multiple of 5, between 1000 and 2000."
   ]
  },
  {
   "cell_type": "markdown",
   "id": "2dd60f51",
   "metadata": {},
   "source": [
    "Step 1: Create a function num_div(val1,val2)\n",
    "Step 2: Start a loop between 1000(i) to 2000 value \n",
    "Step 3: Inside loop\n",
    "        if i%7=0 and i%5!=0 then \n",
    "            print(i)\n",
    "Step 4:Call num_div(1000,200)"
   ]
  },
  {
   "cell_type": "code",
   "execution_count": 14,
   "id": "7bf36a72",
   "metadata": {},
   "outputs": [
    {
     "name": "stdout",
     "output_type": "stream",
     "text": [
      "1001 ,\n",
      "1008 ,\n",
      "1022 ,\n",
      "1029 ,\n",
      "1036 ,\n",
      "1043 ,\n",
      "1057 ,\n",
      "1064 ,\n",
      "1071 ,\n",
      "1078 ,\n",
      "1092 ,\n",
      "1099 ,\n",
      "1106 ,\n",
      "1113 ,\n",
      "1127 ,\n",
      "1134 ,\n",
      "1141 ,\n",
      "1148 ,\n",
      "1162 ,\n",
      "1169 ,\n",
      "1176 ,\n",
      "1183 ,\n",
      "1197 ,\n",
      "1204 ,\n",
      "1211 ,\n",
      "1218 ,\n",
      "1232 ,\n",
      "1239 ,\n",
      "1246 ,\n",
      "1253 ,\n",
      "1267 ,\n",
      "1274 ,\n",
      "1281 ,\n",
      "1288 ,\n",
      "1302 ,\n",
      "1309 ,\n",
      "1316 ,\n",
      "1323 ,\n",
      "1337 ,\n",
      "1344 ,\n",
      "1351 ,\n",
      "1358 ,\n",
      "1372 ,\n",
      "1379 ,\n",
      "1386 ,\n",
      "1393 ,\n",
      "1407 ,\n",
      "1414 ,\n",
      "1421 ,\n",
      "1428 ,\n",
      "1442 ,\n",
      "1449 ,\n",
      "1456 ,\n",
      "1463 ,\n",
      "1477 ,\n",
      "1484 ,\n",
      "1491 ,\n",
      "1498 ,\n",
      "1512 ,\n",
      "1519 ,\n",
      "1526 ,\n",
      "1533 ,\n",
      "1547 ,\n",
      "1554 ,\n",
      "1561 ,\n",
      "1568 ,\n",
      "1582 ,\n",
      "1589 ,\n",
      "1596 ,\n",
      "1603 ,\n",
      "1617 ,\n",
      "1624 ,\n",
      "1631 ,\n",
      "1638 ,\n",
      "1652 ,\n",
      "1659 ,\n",
      "1666 ,\n",
      "1673 ,\n",
      "1687 ,\n",
      "1694 ,\n",
      "1701 ,\n",
      "1708 ,\n",
      "1722 ,\n",
      "1729 ,\n",
      "1736 ,\n",
      "1743 ,\n",
      "1757 ,\n",
      "1764 ,\n",
      "1771 ,\n",
      "1778 ,\n",
      "1792 ,\n",
      "1799 ,\n",
      "1806 ,\n",
      "1813 ,\n",
      "1827 ,\n",
      "1834 ,\n",
      "1841 ,\n",
      "1848 ,\n",
      "1862 ,\n",
      "1869 ,\n",
      "1876 ,\n",
      "1883 ,\n",
      "1897 ,\n",
      "1904 ,\n",
      "1911 ,\n",
      "1918 ,\n",
      "1932 ,\n",
      "1939 ,\n",
      "1946 ,\n",
      "1953 ,\n",
      "1967 ,\n",
      "1974 ,\n",
      "1981 ,\n",
      "1988 ,\n",
      "Number divisable by 7 and not by 5 between 1000 to 2000 are :  None\n"
     ]
    }
   ],
   "source": [
    "def num_div(val1,val2):\n",
    "    for i in range(val1,val2):\n",
    "        if (i%7==0) and (i%5!=0):\n",
    "            print(i,\",\")\n",
    "print(\"Number divisable by 7 and not by 5 between 1000 to 2000 are : \",num_div(1000,2000))"
   ]
  },
  {
   "cell_type": "markdown",
   "id": "34c84ff4",
   "metadata": {},
   "source": [
    "# C) Define a function that checks whether the given number is Armstrong"
   ]
  },
  {
   "cell_type": "markdown",
   "id": "e3853024",
   "metadata": {},
   "source": [
    "Step 1: Create a function check_armstrong(num)\n",
    "Step 2: Inside function \n",
    "            sum=0,temp=num\n",
    "Step 3: cretae loop while temp > 0\n",
    "        Inside loop\n",
    "            r= temp %10\n",
    "            sum+=r ** 3\n",
    "            temp//=10\n",
    "Step 4: if num==sum then \n",
    "            Armstrong number\n",
    "        else\n",
    "            Not a armstrong number\n",
    "Step 5: get number from user\n",
    "Step 6: call check_armstrong(num)"
   ]
  },
  {
   "cell_type": "code",
   "execution_count": 4,
   "id": "696843ff",
   "metadata": {},
   "outputs": [
    {
     "name": "stdout",
     "output_type": "stream",
     "text": [
      "Enter a number: 197\n",
      "Not a Armstrong number\n"
     ]
    }
   ],
   "source": [
    "def check_armstrong(num):\n",
    "    sum=0\n",
    "    temp=num\n",
    "\n",
    "    while temp > 0:\n",
    "        r=temp % 10\n",
    "        sum += r ** 3\n",
    "        temp //= 10\n",
    "\n",
    "    if num==sum:\n",
    "        print(\"Armstrong number\")\n",
    "    else:\n",
    "        print(\"Not a Armstrong number\")\n",
    "num=int(input(\"Enter a number: \"))\n",
    "check_armstrong(num)\n"
   ]
  }
 ],
 "metadata": {
  "kernelspec": {
   "display_name": "Python 3 (ipykernel)",
   "language": "python",
   "name": "python3"
  },
  "language_info": {
   "codemirror_mode": {
    "name": "ipython",
    "version": 3
   },
   "file_extension": ".py",
   "mimetype": "text/x-python",
   "name": "python",
   "nbconvert_exporter": "python",
   "pygments_lexer": "ipython3",
   "version": "3.8.11"
  }
 },
 "nbformat": 4,
 "nbformat_minor": 5
}
